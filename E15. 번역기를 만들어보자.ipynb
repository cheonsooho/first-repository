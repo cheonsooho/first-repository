{
 "cells": [
  {
   "cell_type": "markdown",
   "metadata": {},
   "source": [
    "# 15-10. 프로젝트 : 단어 Level로 번역기 업그레이드하기\n",
    "\n",
    "실습에서 구현한 번역기는 글자 단위(Character-level)에서 구현된 번역기였습니다. 하지만 실제 번역기의 경우에는 글자 단위가 아니라 단어 단위(Word-level)에서 구현되는 것이 좀 더 보편적입니다.\n",
    "\n",
    "동일한 데이터셋을 사용하면서 글자 단위와는 다른 전처리와 임베딩 층(Embedding layer)를 추가하여 단어 단위의 번역기를 완성시켜보겠습니다. 하지만, 단어 단위로 할 경우에는 단어의 개수가 글자 단위로 했을 경우와 비교하여 단어장의 크기(Vocabulary) 크기도 커지고, 학습 속도도 좀 더 느려집니다. 학습과 테스트 시의 원활한 진행을 위해서 **데이터에서 상위 33,000개의 샘플만 사용해주세요.**\n",
    "\n",
    "**33000개 중 3000개는 테스트 데이터로 분리하여 모델을 학습한 후에 번역을 테스트 하는 용도로 사용합니다.**"
   ]
  },
  {
   "cell_type": "code",
   "execution_count": 51,
   "metadata": {},
   "outputs": [],
   "source": [
    "import os\n",
    "import re\n",
    "import glob\n",
    "import numpy as np\n",
    "import pandas as pd\n",
    "import tensorflow as tf\n",
    "\n",
    "from tensorflow.keras.models import Model\n",
    "from tensorflow.keras.utils import to_categorical\n",
    "from sklearn.model_selection import train_test_split\n",
    "from tensorflow.keras.preprocessing.text import Tokenizer\n",
    "from tensorflow.keras.layers import Input, LSTM, Embedding, Dense, Masking\n",
    "from tensorflow.keras.preprocessing.sequence import pad_sequences\n",
    "\n",
    "file_path = os.getenv('HOME')+'/aiffel/translator_seq2seq/data/fra.txt'\n",
    "num_samples = 33000"
   ]
  },
  {
   "cell_type": "markdown",
   "metadata": {},
   "source": [
    "##### Step 1. 정제, 정규화, 전처리 (영어, 프랑스어 모두!)\n",
    "___\n",
    "글자 단위가 아닌 단어 단위의 번역기를 하기 위해서는 글자 단위에서는 신경쓰지 않았던 몇 가지 추가적인 전처리가 필요합니다.\n",
    "\n",
    "**1. 구두점(Punctuation)을 단어와 분리해주세요.**  \n",
    "일반적으로 영어권 언어의 경우에는 띄어쓰기 단위로 단어를 분리합니다. 토큰화(Tokenization)이라고도 불리는 이 작업은 어디서부터 어디까지가 하나의 단어인지를 구분하는 작업인데요. 그런데 띄어쓰기를 해주기 전에 구두점을 분리하는 작업이 필요할 때가 있습니다."
   ]
  },
  {
   "cell_type": "markdown",
   "metadata": {},
   "source": [
    "**2. 소문자로 바꿔주세요.**  \n",
    "기계가 보기에는 스펠링이 같더라도 대문자로 된 단어와 소문자로 된 단어는 서로 다른 단어입니다. 예를 들어 'Good'과 'good'은 기계가 보기에는 다른 단어입니다. 그래서 모든 문장에 대해서 전부 영어로 바꿔주는 작업을 하겠습니다."
   ]
  },
  {
   "cell_type": "code",
   "execution_count": 31,
   "metadata": {},
   "outputs": [],
   "source": [
    "def unicode_to_ascii(s):\n",
    "  return ''.join(c for c in unicodedata.normalize('NFD', s)\n",
    "      if unicodedata.category(c) != 'Mn')\n",
    "\n",
    "def preprocess_sentence(sent):\n",
    "    sent = sent.lower()\n",
    "    sent = re.sub(r\"([?.!,¿])\", r\" \\1\", sent)\n",
    "    sent = re.sub(r\"[^a-zA-Z!.?]+\", r\" \", sent)\n",
    "    sent = re.sub(r\"\\s+\", \" \", sent)\n",
    "    return sent"
   ]
  },
  {
   "cell_type": "code",
   "execution_count": 32,
   "metadata": {},
   "outputs": [
    {
     "name": "stdout",
     "output_type": "stream",
     "text": [
      "have you had dinner ?\n",
      "avez vous d j din ?\n"
     ]
    }
   ],
   "source": [
    "en_sent = u\"Have you had dinner?\"\n",
    "fr_sent = u\"Avez-vous déjà diné?\"\n",
    "print(preprocess_sentence(en_sent))\n",
    "print(preprocess_sentence(fr_sent))"
   ]
  },
  {
   "cell_type": "markdown",
   "metadata": {},
   "source": [
    "**3. 띄어쓰기 단위로 토큰를 수행하세요.**  \n",
    "띄어쓰기 단위로 토큰화를 수행해서 단어를 분리하는 작업을 해주세요. 기계는 이렇게 분리된 토큰들을 각각 하나의 단어로 인식할 수 있게 됩니다."
   ]
  },
  {
   "cell_type": "markdown",
   "metadata": {},
   "source": [
    "##### Step 2. 디코더의 문장에 시작 토큰과 종료 토큰을 넣어주세요.\n",
    "___\n",
    "글자 단위 번역기를 구현할 때와 마찬가지로 디코더의 입력 시퀀스 맨 앞에는 시작을 의미하는 토큰인 가 필요합니다. 그리고 교사 강요를 수행할 때, 디코더의 실제값이 되는 디코더의 레이블 시퀀스에는 종료를 의미하는 종료 토큰 가 필요합니다.\n",
    "\n",
    "예를 들어 번역 문장이 Courez!이었다고 한다면, Step 1을 거친 후에는 다음과 같은 결과를 얻습니다.\n",
    "\n",
    "Step 1을 수행한 후 : ['courez', '!']\n",
    "\n",
    "이 문장에 대해서 각각 디코더의 입력 시퀀스와 레이블 시퀀스를 만들면 다음과 같습니다.\n",
    "\n",
    "입력 시퀀스 : ['', 'courez', '!']\n",
    "\n",
    "레이블 시퀀스 : ['courez', '!', ']\n",
    "\n",
    "참고로 Step 2가 반드시 Step 1이 끝난 후에 이루어질 필요는 없습니다!\n",
    "\n",
    "Step 1을 수행하는 중간에 수행해도 상관없습니다."
   ]
  },
  {
   "cell_type": "code",
   "execution_count": 35,
   "metadata": {},
   "outputs": [],
   "source": [
    "def load_preprocessed_data():\n",
    "    encoder_input, decoder_input, decoder_target = [], [], []\n",
    "\n",
    "    with open(file_path, \"r\") as lines:\n",
    "        for i, line in enumerate(lines):\n",
    "\n",
    "            src_line, tar_line, _ = line.strip().split('\\t')\n",
    "\n",
    "            src_line_input = [w for w in preprocess_sentence(src_line).split()]\n",
    "\n",
    "            tar_line = preprocess_sentence(tar_line)\n",
    "            tar_line_input = [w for w in (\"<sos> \" + tar_line).split()]\n",
    "            tar_line_target = [w for w in (tar_line + \" <eos>\").split()]\n",
    "\n",
    "            encoder_input.append(src_line_input)\n",
    "            decoder_input.append(tar_line_input)\n",
    "            decoder_target.append(tar_line_target)\n",
    "\n",
    "            if i == num_samples - 1:\n",
    "                break\n",
    "\n",
    "    return encoder_input, decoder_input, decoder_target"
   ]
  },
  {
   "cell_type": "code",
   "execution_count": 36,
   "metadata": {},
   "outputs": [
    {
     "name": "stdout",
     "output_type": "stream",
     "text": [
      "[['go', '.'], ['hi', '.'], ['hi', '.'], ['run', '!'], ['run', '!']]\n",
      "[['<sos>', 'va', '!'], ['<sos>', 'salut', '!'], ['<sos>', 'salut', '.'], ['<sos>', 'cours', '!'], ['<sos>', 'courez', '!']]\n",
      "[['va', '!', '<eos>'], ['salut', '!', '<eos>'], ['salut', '.', '<eos>'], ['cours', '!', '<eos>'], ['courez', '!', '<eos>']]\n"
     ]
    }
   ],
   "source": [
    "sents_en_in, sents_fra_in, sents_fra_out = load_preprocessed_data()\n",
    "print(sents_en_in[:5])\n",
    "print(sents_fra_in[:5])\n",
    "print(sents_fra_out[:5])"
   ]
  },
  {
   "cell_type": "code",
   "execution_count": 37,
   "metadata": {},
   "outputs": [],
   "source": [
    "tokenizer_en = Tokenizer(filters=\"\", lower=False)\n",
    "tokenizer_en.fit_on_texts(sents_en_in)\n",
    "encoder_input = tokenizer_en.texts_to_sequences(sents_en_in)\n",
    "\n",
    "tokenizer_fra = Tokenizer(filters=\"\", lower=False)\n",
    "tokenizer_fra.fit_on_texts(sents_fra_in)\n",
    "tokenizer_fra.fit_on_texts(sents_fra_out)\n",
    "decoder_input = tokenizer_fra.texts_to_sequences(sents_fra_in)\n",
    "decoder_target = tokenizer_fra.texts_to_sequences(sents_fra_out)"
   ]
  },
  {
   "cell_type": "code",
   "execution_count": 38,
   "metadata": {},
   "outputs": [],
   "source": [
    "encoder_input = pad_sequences(encoder_input, padding=\"post\")\n",
    "decoder_input = pad_sequences(decoder_input, padding=\"post\")\n",
    "decoder_target = pad_sequences(decoder_target, padding=\"post\")"
   ]
  },
  {
   "cell_type": "code",
   "execution_count": 69,
   "metadata": {},
   "outputs": [],
   "source": [
    "src_vocab_size = len(tokenizer_en.word_index) + 1\n",
    "tar_vocab_size = len(tokenizer_fra.word_index) + 1"
   ]
  },
  {
   "cell_type": "markdown",
   "metadata": {},
   "source": [
    "##### Step 3. 케라스의 토크나이저로 텍스트를 숫자로 바꿔보세요.\n",
    "___\n",
    "딥 러닝 모델은 각 단어를 텍스트가 아닌 숫자를 처리합니다. 케라스 토크나이저를 사용해서 각 단어를 고유한 정수로 바꿔보세요. \n",
    "\n",
    "영어와 프랑스어에 대한 토크나이저를 각각 생성하고, tokenizer.texts_to_sequences()를 사용하여 모든 샘플에 대해서 정수 시퀀스로 변환해보세요."
   ]
  },
  {
   "cell_type": "code",
   "execution_count": 43,
   "metadata": {},
   "outputs": [],
   "source": [
    "src_to_index = tokenizer_en.word_index\n",
    "index_to_src = tokenizer_en.index_word\n",
    "\n",
    "tar_to_index = tokenizer_fra.word_index\n",
    "index_to_tar = tokenizer_fra.index_word"
   ]
  },
  {
   "cell_type": "code",
   "execution_count": 44,
   "metadata": {},
   "outputs": [
    {
     "name": "stdout",
     "output_type": "stream",
     "text": [
      "[21418  2100 30567 ...  5349 22201 23284]\n"
     ]
    }
   ],
   "source": [
    "indices = np.arange(encoder_input.shape[0])\n",
    "np.random.shuffle(indices)\n",
    "print(indices)"
   ]
  },
  {
   "cell_type": "code",
   "execution_count": 45,
   "metadata": {},
   "outputs": [],
   "source": [
    "encoder_input = encoder_input[indices]\n",
    "decoder_input = decoder_input[indices]\n",
    "decoder_target = decoder_target[indices]"
   ]
  },
  {
   "cell_type": "code",
   "execution_count": 52,
   "metadata": {},
   "outputs": [],
   "source": [
    "n_of_val = int(33000*0.1)\n",
    "\n",
    "encoder_input_train = encoder_input[:-n_of_val]\n",
    "decoder_input_train = decoder_input[:-n_of_val]\n",
    "decoder_target_train = decoder_target[:-n_of_val]\n",
    "\n",
    "encoder_input_test = encoder_input[-n_of_val:]\n",
    "decoder_input_test = decoder_input[-n_of_val:]\n",
    "decoder_target_test = decoder_target[-n_of_val:]"
   ]
  },
  {
   "cell_type": "markdown",
   "metadata": {},
   "source": [
    "##### Step 4. 임베딩 층(Embedding layer) 사용하기\n",
    "___\n",
    "이번에는 입력이 되는 각 단어를 임베딩 층을 사용하여 벡터화하겠습니다.\n",
    "\n",
    "임베딩 층을 사용하는 방법과 그 설명에 대해서는 아래의 링크의\n",
    "\n",
    "**1. 케라스 임베딩 층(Keras Embedding layer)**를 참고하세요.\n",
    "\n",
    "[위키독스](https://wikidocs.net/33793)\n",
    "\n",
    "실제 번역기 구현을 위해서 사용할 수 있는 인코더 코드의 예시는 다음과 같습니다.\n",
    "\n",
    "이를 통해서 인코더와 디코더의 임베딩 층을 각각 구현해보세요.\n",
    "\n",
    "```\n",
    "from tensorflow.keras.layers import Input, mbedding, Masking\n",
    "\n",
    "# 인코더에서 사용할 임베딩 층 사용 예시\n",
    "encoder_inputs = Input(shape=(None,))\n",
    "enc_emb =  Embedding(단어장의 크기, 임베딩 벡터의 차원)(encoder_inputs)\n",
    "encoder_lstm = LSTM(hidden state의 크기, return_state=True)\n",
    "encoder_outputs, state_h, state_c = encoder_lstm(enc_emb)\n",
    "```\n",
    "\n",
    "주의할 점은 인코더와 디코더의 임베딩 층은 서로 다른 임베딩 층을 사용해야 하지만,\n",
    "\n",
    "디코더의 훈련 과정과 테스트 과정(예측 과정)에서의 임베딩 층은 동일해야 합니다!"
   ]
  },
  {
   "cell_type": "code",
   "execution_count": 55,
   "metadata": {},
   "outputs": [],
   "source": [
    "latent_dim = 50"
   ]
  },
  {
   "cell_type": "code",
   "execution_count": 56,
   "metadata": {},
   "outputs": [],
   "source": [
    "encoder_inputs = Input(shape=(None,))\n",
    "enc_emb =  Embedding(src_vocab_size, latent_dim)(encoder_inputs)\n",
    "enc_masking = Masking(mask_value=0.0)(enc_emb)\n",
    "encoder_lstm = LSTM(latent_dim, return_state=True)\n",
    "encoder_outputs, state_h, state_c = encoder_lstm(enc_masking)\n",
    "encoder_states = [state_h, state_c]"
   ]
  },
  {
   "cell_type": "code",
   "execution_count": 58,
   "metadata": {},
   "outputs": [],
   "source": [
    "decoder_inputs = Input(shape=(None,))\n",
    "dec_emb_layer = Embedding(tar_vocab_size, latent_dim)\n",
    "dec_emb = dec_emb_layer(decoder_inputs)\n",
    "dec_masking = Masking(mask_value=0.0)(dec_emb)\n",
    "\n",
    "decoder_lstm = LSTM(latent_dim, return_sequences=True, return_state=True) \n",
    "decoder_outputs, _, _ = decoder_lstm(dec_masking, initial_state=encoder_states)\n",
    "\n",
    "decoder_dense = Dense(tar_vocab_size, activation='softmax')\n",
    "decoder_outputs = decoder_dense(decoder_outputs)"
   ]
  },
  {
   "cell_type": "markdown",
   "metadata": {},
   "source": [
    "##### Step 5. 모델 구현하기\n",
    "___\n",
    "글자 단위 번역기에서 구현한 모델을 참고로 단어 단위 번역기의 모델을 완성시켜보세요!"
   ]
  },
  {
   "cell_type": "code",
   "execution_count": 59,
   "metadata": {},
   "outputs": [],
   "source": [
    "model = Model([encoder_inputs, decoder_inputs], decoder_outputs)"
   ]
  },
  {
   "cell_type": "code",
   "execution_count": 60,
   "metadata": {},
   "outputs": [],
   "source": [
    "model.compile(optimizer='rmsprop', loss='sparse_categorical_crossentropy', metrics=['acc'])"
   ]
  },
  {
   "cell_type": "code",
   "execution_count": 61,
   "metadata": {},
   "outputs": [
    {
     "name": "stdout",
     "output_type": "stream",
     "text": [
      "Epoch 1/50\n",
      "233/233 [==============================] - 8s 36ms/step - loss: 3.2185 - acc: 0.5914 - val_loss: 2.0084 - val_acc: 0.6395\n",
      "Epoch 2/50\n",
      "233/233 [==============================] - 7s 30ms/step - loss: 1.8126 - acc: 0.7120 - val_loss: 1.7229 - val_acc: 0.7262\n",
      "Epoch 3/50\n",
      "233/233 [==============================] - 7s 30ms/step - loss: 1.6338 - acc: 0.7315 - val_loss: 1.6109 - val_acc: 0.7365\n",
      "Epoch 4/50\n",
      "233/233 [==============================] - 7s 30ms/step - loss: 1.5348 - acc: 0.7486 - val_loss: 1.5244 - val_acc: 0.7560\n",
      "Epoch 5/50\n",
      "233/233 [==============================] - 7s 30ms/step - loss: 1.4525 - acc: 0.7621 - val_loss: 1.4704 - val_acc: 0.7616\n",
      "Epoch 6/50\n",
      "233/233 [==============================] - 7s 30ms/step - loss: 1.3792 - acc: 0.7736 - val_loss: 1.3890 - val_acc: 0.7760\n",
      "Epoch 7/50\n",
      "233/233 [==============================] - 7s 30ms/step - loss: 1.3149 - acc: 0.7843 - val_loss: 1.3453 - val_acc: 0.7843\n",
      "Epoch 8/50\n",
      "233/233 [==============================] - 7s 30ms/step - loss: 1.2622 - acc: 0.7933 - val_loss: 1.2965 - val_acc: 0.7921\n",
      "Epoch 9/50\n",
      "233/233 [==============================] - 7s 30ms/step - loss: 1.2182 - acc: 0.7986 - val_loss: 1.2658 - val_acc: 0.7966\n",
      "Epoch 10/50\n",
      "233/233 [==============================] - 7s 30ms/step - loss: 1.1793 - acc: 0.8034 - val_loss: 1.2348 - val_acc: 0.7992\n",
      "Epoch 11/50\n",
      "233/233 [==============================] - 7s 30ms/step - loss: 1.1439 - acc: 0.8081 - val_loss: 1.2137 - val_acc: 0.8006\n",
      "Epoch 12/50\n",
      "233/233 [==============================] - 7s 30ms/step - loss: 1.1124 - acc: 0.8120 - val_loss: 1.1733 - val_acc: 0.8083\n",
      "Epoch 13/50\n",
      "233/233 [==============================] - 7s 30ms/step - loss: 1.0843 - acc: 0.8160 - val_loss: 1.1558 - val_acc: 0.8107\n",
      "Epoch 14/50\n",
      "233/233 [==============================] - 7s 30ms/step - loss: 1.0580 - acc: 0.8188 - val_loss: 1.1357 - val_acc: 0.8124\n",
      "Epoch 15/50\n",
      "233/233 [==============================] - 7s 30ms/step - loss: 1.0337 - acc: 0.8219 - val_loss: 1.1232 - val_acc: 0.8139\n",
      "Epoch 16/50\n",
      "233/233 [==============================] - 7s 30ms/step - loss: 1.0118 - acc: 0.8248 - val_loss: 1.1006 - val_acc: 0.8180\n",
      "Epoch 17/50\n",
      "233/233 [==============================] - 7s 30ms/step - loss: 0.9912 - acc: 0.8277 - val_loss: 1.1004 - val_acc: 0.8165\n",
      "Epoch 18/50\n",
      "233/233 [==============================] - 7s 30ms/step - loss: 0.9723 - acc: 0.8301 - val_loss: 1.0831 - val_acc: 0.8197\n",
      "Epoch 19/50\n",
      "233/233 [==============================] - 7s 30ms/step - loss: 0.9543 - acc: 0.8327 - val_loss: 1.0666 - val_acc: 0.8216\n",
      "Epoch 20/50\n",
      "233/233 [==============================] - 7s 30ms/step - loss: 0.9372 - acc: 0.8349 - val_loss: 1.0520 - val_acc: 0.8243\n",
      "Epoch 21/50\n",
      "233/233 [==============================] - 7s 30ms/step - loss: 0.9214 - acc: 0.8371 - val_loss: 1.0591 - val_acc: 0.8220\n",
      "Epoch 22/50\n",
      "233/233 [==============================] - 7s 30ms/step - loss: 0.9063 - acc: 0.8392 - val_loss: 1.0217 - val_acc: 0.8283\n",
      "Epoch 23/50\n",
      "233/233 [==============================] - 7s 30ms/step - loss: 0.8921 - acc: 0.8411 - val_loss: 1.0219 - val_acc: 0.8269\n",
      "Epoch 24/50\n",
      "233/233 [==============================] - 7s 30ms/step - loss: 0.8781 - acc: 0.8432 - val_loss: 1.0140 - val_acc: 0.8281\n",
      "Epoch 25/50\n",
      "233/233 [==============================] - 7s 30ms/step - loss: 0.8653 - acc: 0.8450 - val_loss: 1.0029 - val_acc: 0.8300\n",
      "Epoch 26/50\n",
      "233/233 [==============================] - 7s 30ms/step - loss: 0.8532 - acc: 0.8470 - val_loss: 0.9877 - val_acc: 0.8326\n",
      "Epoch 27/50\n",
      "233/233 [==============================] - 7s 30ms/step - loss: 0.8414 - acc: 0.8488 - val_loss: 0.9986 - val_acc: 0.8295\n",
      "Epoch 28/50\n",
      "233/233 [==============================] - 7s 30ms/step - loss: 0.8301 - acc: 0.8505 - val_loss: 0.9975 - val_acc: 0.8308\n",
      "Epoch 29/50\n",
      "233/233 [==============================] - 7s 30ms/step - loss: 0.8190 - acc: 0.8524 - val_loss: 0.9870 - val_acc: 0.8324\n",
      "Epoch 30/50\n",
      "233/233 [==============================] - 7s 30ms/step - loss: 0.8076 - acc: 0.8541 - val_loss: 0.9741 - val_acc: 0.8333\n",
      "Epoch 31/50\n",
      "233/233 [==============================] - 7s 30ms/step - loss: 0.7972 - acc: 0.8558 - val_loss: 0.9838 - val_acc: 0.8317\n",
      "Epoch 32/50\n",
      "233/233 [==============================] - 7s 30ms/step - loss: 0.7869 - acc: 0.8579 - val_loss: 0.9629 - val_acc: 0.8353\n",
      "Epoch 33/50\n",
      "233/233 [==============================] - 7s 30ms/step - loss: 0.7770 - acc: 0.8597 - val_loss: 0.9575 - val_acc: 0.8359\n",
      "Epoch 34/50\n",
      "233/233 [==============================] - 7s 30ms/step - loss: 0.7679 - acc: 0.8613 - val_loss: 0.9554 - val_acc: 0.8374\n",
      "Epoch 35/50\n",
      "233/233 [==============================] - 7s 30ms/step - loss: 0.7590 - acc: 0.8630 - val_loss: 0.9441 - val_acc: 0.8396\n",
      "Epoch 36/50\n",
      "233/233 [==============================] - 7s 30ms/step - loss: 0.7504 - acc: 0.8645 - val_loss: 0.9376 - val_acc: 0.8389\n",
      "Epoch 37/50\n",
      "233/233 [==============================] - 7s 30ms/step - loss: 0.7423 - acc: 0.8662 - val_loss: 0.9379 - val_acc: 0.8393\n",
      "Epoch 38/50\n",
      "233/233 [==============================] - 7s 30ms/step - loss: 0.7346 - acc: 0.8677 - val_loss: 0.9325 - val_acc: 0.8414\n",
      "Epoch 39/50\n",
      "233/233 [==============================] - 7s 30ms/step - loss: 0.7274 - acc: 0.8689 - val_loss: 0.9217 - val_acc: 0.8433\n",
      "Epoch 40/50\n",
      "233/233 [==============================] - 7s 30ms/step - loss: 0.7202 - acc: 0.8704 - val_loss: 0.9225 - val_acc: 0.8430\n",
      "Epoch 41/50\n",
      "233/233 [==============================] - 7s 30ms/step - loss: 0.7132 - acc: 0.8717 - val_loss: 0.9131 - val_acc: 0.8450\n",
      "Epoch 42/50\n",
      "233/233 [==============================] - 7s 30ms/step - loss: 0.7063 - acc: 0.8730 - val_loss: 0.9141 - val_acc: 0.8443\n",
      "Epoch 43/50\n",
      "233/233 [==============================] - 7s 30ms/step - loss: 0.6997 - acc: 0.8747 - val_loss: 0.9111 - val_acc: 0.8462\n",
      "Epoch 44/50\n",
      "233/233 [==============================] - 7s 30ms/step - loss: 0.6934 - acc: 0.8755 - val_loss: 0.9188 - val_acc: 0.8440\n",
      "Epoch 45/50\n",
      "233/233 [==============================] - 7s 30ms/step - loss: 0.6876 - acc: 0.8768 - val_loss: 0.9207 - val_acc: 0.8436\n",
      "Epoch 46/50\n",
      "233/233 [==============================] - 7s 30ms/step - loss: 0.6823 - acc: 0.8780 - val_loss: 0.9239 - val_acc: 0.8445\n",
      "Epoch 47/50\n",
      "233/233 [==============================] - 7s 30ms/step - loss: 0.6772 - acc: 0.8790 - val_loss: 0.9071 - val_acc: 0.8466\n",
      "Epoch 48/50\n",
      "233/233 [==============================] - 7s 30ms/step - loss: 0.6722 - acc: 0.8803 - val_loss: 0.9062 - val_acc: 0.8468\n",
      "Epoch 49/50\n",
      "233/233 [==============================] - 7s 30ms/step - loss: 0.6672 - acc: 0.8810 - val_loss: 0.8983 - val_acc: 0.8488\n",
      "Epoch 50/50\n",
      "233/233 [==============================] - 7s 30ms/step - loss: 0.6627 - acc: 0.8821 - val_loss: 0.9068 - val_acc: 0.8462\n"
     ]
    },
    {
     "data": {
      "text/plain": [
       "<tensorflow.python.keras.callbacks.History at 0x7f4506932090>"
      ]
     },
     "execution_count": 61,
     "metadata": {},
     "output_type": "execute_result"
    }
   ],
   "source": [
    "model.fit(x = [encoder_input_train, decoder_input_train], y = decoder_target_train, \\\n",
    "          validation_data = ([encoder_input_test, decoder_input_test], decoder_target_test),\n",
    "          batch_size = 128, epochs = 50)"
   ]
  },
  {
   "cell_type": "markdown",
   "metadata": {},
   "source": [
    "##### Step 6. 모델 평가하기\n",
    "___\n",
    "단어 단위 번역기에 대해서 훈련 데이터의 샘플과 테스트 데이터의 샘플에 대해서 번역 문장을 만들어보고 정답 문장과 번역 문장을 비교해보세요."
   ]
  },
  {
   "cell_type": "code",
   "execution_count": 62,
   "metadata": {},
   "outputs": [],
   "source": [
    "encoder_model = Model(encoder_inputs, encoder_states)"
   ]
  },
  {
   "cell_type": "code",
   "execution_count": 63,
   "metadata": {},
   "outputs": [],
   "source": [
    "decoder_state_input_h = Input(shape=(latent_dim,))\n",
    "decoder_state_input_c = Input(shape=(latent_dim,))\n",
    "decoder_states_inputs = [decoder_state_input_h, decoder_state_input_c]\n",
    "\n",
    "dec_emb2= dec_emb_layer(decoder_inputs)\n",
    "\n",
    "decoder_outputs2, state_h2, state_c2 = decoder_lstm(dec_emb2, initial_state=decoder_states_inputs)\n",
    "decoder_states2 = [state_h2, state_c2]\n",
    "\n",
    "decoder_outputs2 = decoder_dense(decoder_outputs2)"
   ]
  },
  {
   "cell_type": "code",
   "execution_count": 64,
   "metadata": {},
   "outputs": [],
   "source": [
    "decoder_model = Model(\n",
    "    [decoder_inputs] + decoder_states_inputs,\n",
    "    [decoder_outputs2] + decoder_states2)"
   ]
  },
  {
   "cell_type": "code",
   "execution_count": 65,
   "metadata": {},
   "outputs": [],
   "source": [
    "def decode_sequence(input_seq):\n",
    "    states_value = encoder_model.predict(input_seq)\n",
    "\n",
    "    target_seq = np.zeros((1,1))\n",
    "    target_seq[0, 0] = tar_to_index['<sos>']\n",
    "\n",
    "    stop_condition = False\n",
    "    decoded_sentence = ''\n",
    "\n",
    "    while not stop_condition:\n",
    "        output_tokens, h, c = decoder_model.predict([target_seq] + states_value)\n",
    "\n",
    "        sampled_token_index = np.argmax(output_tokens[0, -1, :])\n",
    "        sampled_char = index_to_tar[sampled_token_index]\n",
    "\n",
    "        decoded_sentence += ' '+sampled_char\n",
    "\n",
    "        if (sampled_char == '<eos>' or\n",
    "           len(decoded_sentence) > 50):\n",
    "            stop_condition = True\n",
    "\n",
    "        target_seq = np.zeros((1,1))\n",
    "        target_seq[0, 0] = sampled_token_index\n",
    "\n",
    "        states_value = [h, c]\n",
    "\n",
    "    return decoded_sentence"
   ]
  },
  {
   "cell_type": "code",
   "execution_count": 66,
   "metadata": {},
   "outputs": [],
   "source": [
    "def seq2src(input_seq):\n",
    "    temp=''\n",
    "    for i in input_seq:\n",
    "        if(i!=0):\n",
    "            temp = temp + index_to_src[i]+' '\n",
    "    return temp\n",
    "\n",
    "def seq2tar(input_seq):\n",
    "    temp=''\n",
    "    for i in input_seq:\n",
    "        if((i!=0 and i!=tar_to_index['<sos>']) and i!=tar_to_index['<eos>']):\n",
    "            temp = temp + index_to_tar[i] + ' '\n",
    "    return temp"
   ]
  },
  {
   "cell_type": "code",
   "execution_count": 67,
   "metadata": {},
   "outputs": [
    {
     "name": "stdout",
     "output_type": "stream",
     "text": [
      "원문 :  i like westerns . \n",
      "번역문 : j aime les westerns . \n",
      "예측문 :  j aime les deux . \n",
      "\n",
      "\n",
      "원문 :  go back to bed . \n",
      "번역문 : retourne au lit ! \n",
      "예측문 :  allez au lit ! \n",
      "\n",
      "\n",
      "원문 :  grab hold of this . \n",
      "번역문 : saisissez ceci ! \n",
      "예측문 :  ouvre . \n",
      "\n",
      "\n",
      "원문 :  take one of these . \n",
      "번역문 : prends l une de celles ci ! \n",
      "예측문 :  en un en train de vous voir . \n",
      "\n",
      "\n",
      "원문 :  is he really coming ? \n",
      "번역문 : viendra t il effectivement ? \n",
      "예측문 :  il est juste il s rieux . \n",
      "\n",
      "\n"
     ]
    }
   ],
   "source": [
    "for seq_index in [3,50,100,300,1001]:\n",
    "  input_seq = encoder_input_train[seq_index: seq_index + 1]\n",
    "  decoded_sentence = decode_sequence(input_seq)\n",
    "\n",
    "  print(\"원문 : \",seq2src(encoder_input_train[seq_index]))\n",
    "  print(\"번역문 :\",seq2tar(decoder_input_train[seq_index]))\n",
    "  print(\"예측문 :\",decoded_sentence[:-5])\n",
    "  print(\"\\n\")"
   ]
  },
  {
   "cell_type": "code",
   "execution_count": 68,
   "metadata": {},
   "outputs": [
    {
     "name": "stdout",
     "output_type": "stream",
     "text": [
      "원문 :  you re very brave . \n",
      "번역문 : tu es fort courageux . \n",
      "예측문 :  vous tes tr s timide . \n",
      "\n",
      "\n",
      "원문 :  he is so heartless . \n",
      "번역문 : il est vraiment sans c ur . \n",
      "예측문 :  il est tellement d accord . \n",
      "\n",
      "\n",
      "원문 :  i hate that idea . \n",
      "번역문 : je d teste cette id e . \n",
      "예측문 :  je d teste cette chanson . \n",
      "\n",
      "\n",
      "원문 :  we did it ourselves . \n",
      "번역문 : nous l avons fait nous m mes . \n",
      "예측문 :  nous avons l air . \n",
      "\n",
      "\n",
      "원문 :  tom ate quickly . \n",
      "번역문 : tom a mang rapidement . \n",
      "예측문 :  tom a pris une semaine tard . \n",
      "\n",
      "\n"
     ]
    }
   ],
   "source": [
    "for seq_index in [3,50,100,300,1001]:\n",
    "  input_seq = encoder_input_test[seq_index: seq_index + 1]\n",
    "  decoded_sentence = decode_sequence(input_seq)\n",
    "\n",
    "  print(\"원문 : \",seq2src(encoder_input_test[seq_index]))\n",
    "  print(\"번역문 :\",seq2tar(decoder_input_test[seq_index]))\n",
    "  print(\"예측문 :\",decoded_sentence[:-5])\n",
    "  print(\"\\n\")"
   ]
  },
  {
   "cell_type": "code",
   "execution_count": null,
   "metadata": {},
   "outputs": [],
   "source": []
  }
 ],
 "metadata": {
  "kernelspec": {
   "display_name": "aiffel",
   "language": "python",
   "name": "aiffel"
  },
  "language_info": {
   "codemirror_mode": {
    "name": "ipython",
    "version": 3
   },
   "file_extension": ".py",
   "mimetype": "text/x-python",
   "name": "python",
   "nbconvert_exporter": "python",
   "pygments_lexer": "ipython3",
   "version": "3.7.6"
  }
 },
 "nbformat": 4,
 "nbformat_minor": 4
}
