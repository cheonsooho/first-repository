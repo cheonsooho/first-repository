{
 "cells": [
  {
   "cell_type": "markdown",
   "metadata": {},
   "source": [
    "### 18-13. 프로젝트: 뉴스기사 요약해보기\n",
    "\n",
    "새로운 데이터셋에 대해서 추상적 요약과 추출적 요약을 모두 해보는 시간을 가져봐요.\n",
    "\n",
    "##### Step 1. 데이터 수집하기\n",
    "\n",
    "데이터는 아래 링크에 있는 뉴스 기사 데이터(newssummarymore.csv)를 사용하세요.\n",
    "\n",
    "[sunnysai12345/News_Summary](https://github.com/sunnysai12345/News_Summary)\n",
    "\n",
    "아래의 코드로 데이터를 다운로드 할 수 있어요."
   ]
  },
  {
   "cell_type": "code",
   "execution_count": 1,
   "metadata": {},
   "outputs": [],
   "source": [
    "import nltk\n",
    "import numpy as np\n",
    "import pandas as pd\n",
    "import os\n",
    "import re\n",
    "import matplotlib.pyplot as plt\n",
    "from nltk.corpus import stopwords\n",
    "from bs4 import BeautifulSoup \n",
    "from tensorflow.keras.preprocessing.text import Tokenizer \n",
    "from tensorflow.keras.preprocessing.sequence import pad_sequences"
   ]
  },
  {
   "cell_type": "code",
   "execution_count": 2,
   "metadata": {},
   "outputs": [],
   "source": [
    "import urllib.request\n",
    "urllib.request.urlretrieve(\"https://raw.githubusercontent.com/sunnysai12345/News_Summary/master/news_summary_more.csv\", filename=\"news_summary_more.csv\")\n",
    "data = pd.read_csv('news_summary_more.csv', encoding='iso-8859-1')"
   ]
  },
  {
   "cell_type": "code",
   "execution_count": 4,
   "metadata": {},
   "outputs": [
    {
     "name": "stdout",
     "output_type": "stream",
     "text": [
      "전체 샘플수 : 98401\n"
     ]
    }
   ],
   "source": [
    "print('전체 샘플수 :',(len(data)))"
   ]
  },
  {
   "cell_type": "code",
   "execution_count": 8,
   "metadata": {},
   "outputs": [
    {
     "data": {
      "text/html": [
       "<div>\n",
       "<style scoped>\n",
       "    .dataframe tbody tr th:only-of-type {\n",
       "        vertical-align: middle;\n",
       "    }\n",
       "\n",
       "    .dataframe tbody tr th {\n",
       "        vertical-align: top;\n",
       "    }\n",
       "\n",
       "    .dataframe thead th {\n",
       "        text-align: right;\n",
       "    }\n",
       "</style>\n",
       "<table border=\"1\" class=\"dataframe\">\n",
       "  <thead>\n",
       "    <tr style=\"text-align: right;\">\n",
       "      <th></th>\n",
       "      <th>headlines</th>\n",
       "      <th>text</th>\n",
       "    </tr>\n",
       "  </thead>\n",
       "  <tbody>\n",
       "    <tr>\n",
       "      <th>24450</th>\n",
       "      <td>Mumbai couple held for cheating 700 investors ...</td>\n",
       "      <td>The Mumbai Police has arrested a married coupl...</td>\n",
       "    </tr>\n",
       "    <tr>\n",
       "      <th>44369</th>\n",
       "      <td>20-yr-old Rashford scores 2 goals as Man Utd b...</td>\n",
       "      <td>Manchester United's 20-year-old attacker Marcu...</td>\n",
       "    </tr>\n",
       "    <tr>\n",
       "      <th>17361</th>\n",
       "      <td>India to cut Iran oil imports ahead of US sanc...</td>\n",
       "      <td>Ahead of the US sanctions, India will cut its ...</td>\n",
       "    </tr>\n",
       "  </tbody>\n",
       "</table>\n",
       "</div>"
      ],
      "text/plain": [
       "                                               headlines  \\\n",
       "24450  Mumbai couple held for cheating 700 investors ...   \n",
       "44369  20-yr-old Rashford scores 2 goals as Man Utd b...   \n",
       "17361  India to cut Iran oil imports ahead of US sanc...   \n",
       "\n",
       "                                                    text  \n",
       "24450  The Mumbai Police has arrested a married coupl...  \n",
       "44369  Manchester United's 20-year-old attacker Marcu...  \n",
       "17361  Ahead of the US sanctions, India will cut its ...  "
      ]
     },
     "execution_count": 8,
     "metadata": {},
     "output_type": "execute_result"
    }
   ],
   "source": [
    "data = data[['headlines','text']]\n",
    "data.head()\n",
    "\n",
    "data.sample(3)"
   ]
  },
  {
   "cell_type": "markdown",
   "metadata": {},
   "source": [
    "이 데이터는 기사의 본문에 해당되는 text와 headlines 두 가지 열로 구성되어져 있습니다.\n",
    "\n",
    "추상적 요약을 하는 경우에는 text를 본문, headlines를 이미 요약된 데이터로 삼아서 모델을 학습할 수 있어요. 추출적 요약을 하는 경우에는 오직 text열만을 사용하세요."
   ]
  },
  {
   "cell_type": "markdown",
   "metadata": {},
   "source": [
    "##### Step 2. 데이터 전처리하기 (추상적 요약)\n",
    "실습에서 사용된 전처리를 참고하여 각자 필요하다고 생각하는 전처리를 추가 사용하여 텍스트를 정규화 또는 정제해 보세요. 만약, 불용어 제거를 선택한다면 상대적으로 길이가 짧은 요약 데이터에 대해서도 불용어를 제거하는 것이 좋을지 고민해보세요."
   ]
  },
  {
   "cell_type": "code",
   "execution_count": 10,
   "metadata": {},
   "outputs": [
    {
     "name": "stdout",
     "output_type": "stream",
     "text": [
      "Text 열에서 중복을 배제한 유일한 샘플의 수 : 98280\n",
      "Summary 열에서 중복을 배제한 유일한 샘플의 수 : 98360\n"
     ]
    }
   ],
   "source": [
    "print('headline 열에서 중복을 배제한 유일한 샘플의 수 :', data['headlines'].nunique())\n",
    "print('text 열에서 중복을 배제한 유일한 샘플의 수 :', data['text'].nunique())"
   ]
  },
  {
   "cell_type": "code",
   "execution_count": 11,
   "metadata": {},
   "outputs": [
    {
     "name": "stdout",
     "output_type": "stream",
     "text": [
      "전체 샘플수 : 98360\n"
     ]
    }
   ],
   "source": [
    "data.drop_duplicates(subset = ['text'], inplace = True)\n",
    "print('전체 샘플수 :',(len(data)))"
   ]
  },
  {
   "cell_type": "code",
   "execution_count": 12,
   "metadata": {},
   "outputs": [
    {
     "name": "stdout",
     "output_type": "stream",
     "text": [
      "headlines    0\n",
      "text         0\n",
      "dtype: int64\n"
     ]
    }
   ],
   "source": [
    "print(data.isnull().sum())"
   ]
  },
  {
   "cell_type": "code",
   "execution_count": 13,
   "metadata": {},
   "outputs": [
    {
     "name": "stdout",
     "output_type": "stream",
     "text": [
      "정규화 사전의 수:  120\n"
     ]
    }
   ],
   "source": [
    "contractions = {\"ain't\": \"is not\", \"aren't\": \"are not\",\"can't\": \"cannot\", \"'cause\": \"because\", \"could've\": \"could have\", \"couldn't\": \"could not\",\n",
    "                           \"didn't\": \"did not\",  \"doesn't\": \"does not\", \"don't\": \"do not\", \"hadn't\": \"had not\", \"hasn't\": \"has not\", \"haven't\": \"have not\",\n",
    "                           \"he'd\": \"he would\",\"he'll\": \"he will\", \"he's\": \"he is\", \"how'd\": \"how did\", \"how'd'y\": \"how do you\", \"how'll\": \"how will\", \"how's\": \"how is\",\n",
    "                           \"I'd\": \"I would\", \"I'd've\": \"I would have\", \"I'll\": \"I will\", \"I'll've\": \"I will have\",\"I'm\": \"I am\", \"I've\": \"I have\", \"i'd\": \"i would\",\n",
    "                           \"i'd've\": \"i would have\", \"i'll\": \"i will\",  \"i'll've\": \"i will have\",\"i'm\": \"i am\", \"i've\": \"i have\", \"isn't\": \"is not\", \"it'd\": \"it would\",\n",
    "                           \"it'd've\": \"it would have\", \"it'll\": \"it will\", \"it'll've\": \"it will have\",\"it's\": \"it is\", \"let's\": \"let us\", \"ma'am\": \"madam\",\n",
    "                           \"mayn't\": \"may not\", \"might've\": \"might have\",\"mightn't\": \"might not\",\"mightn't've\": \"might not have\", \"must've\": \"must have\",\n",
    "                           \"mustn't\": \"must not\", \"mustn't've\": \"must not have\", \"needn't\": \"need not\", \"needn't've\": \"need not have\",\"o'clock\": \"of the clock\",\n",
    "                           \"oughtn't\": \"ought not\", \"oughtn't've\": \"ought not have\", \"shan't\": \"shall not\", \"sha'n't\": \"shall not\", \"shan't've\": \"shall not have\",\n",
    "                           \"she'd\": \"she would\", \"she'd've\": \"she would have\", \"she'll\": \"she will\", \"she'll've\": \"she will have\", \"she's\": \"she is\",\n",
    "                           \"should've\": \"should have\", \"shouldn't\": \"should not\", \"shouldn't've\": \"should not have\", \"so've\": \"so have\",\"so's\": \"so as\",\n",
    "                           \"this's\": \"this is\",\"that'd\": \"that would\", \"that'd've\": \"that would have\", \"that's\": \"that is\", \"there'd\": \"there would\",\n",
    "                           \"there'd've\": \"there would have\", \"there's\": \"there is\", \"here's\": \"here is\",\"they'd\": \"they would\", \"they'd've\": \"they would have\",\n",
    "                           \"they'll\": \"they will\", \"they'll've\": \"they will have\", \"they're\": \"they are\", \"they've\": \"they have\", \"to've\": \"to have\",\n",
    "                           \"wasn't\": \"was not\", \"we'd\": \"we would\", \"we'd've\": \"we would have\", \"we'll\": \"we will\", \"we'll've\": \"we will have\", \"we're\": \"we are\",\n",
    "                           \"we've\": \"we have\", \"weren't\": \"were not\", \"what'll\": \"what will\", \"what'll've\": \"what will have\", \"what're\": \"what are\",\n",
    "                           \"what's\": \"what is\", \"what've\": \"what have\", \"when's\": \"when is\", \"when've\": \"when have\", \"where'd\": \"where did\", \"where's\": \"where is\",\n",
    "                           \"where've\": \"where have\", \"who'll\": \"who will\", \"who'll've\": \"who will have\", \"who's\": \"who is\", \"who've\": \"who have\",\n",
    "                           \"why's\": \"why is\", \"why've\": \"why have\", \"will've\": \"will have\", \"won't\": \"will not\", \"won't've\": \"will not have\",\n",
    "                           \"would've\": \"would have\", \"wouldn't\": \"would not\", \"wouldn't've\": \"would not have\", \"y'all\": \"you all\",\n",
    "                           \"y'all'd\": \"you all would\",\"y'all'd've\": \"you all would have\",\"y'all're\": \"you all are\",\"y'all've\": \"you all have\",\n",
    "                           \"you'd\": \"you would\", \"you'd've\": \"you would have\", \"you'll\": \"you will\", \"you'll've\": \"you will have\",\n",
    "                           \"you're\": \"you are\", \"you've\": \"you have\"}\n",
    "\n",
    "print(\"정규화 사전의 수: \",len(contractions))"
   ]
  },
  {
   "cell_type": "code",
   "execution_count": 14,
   "metadata": {},
   "outputs": [
    {
     "name": "stdout",
     "output_type": "stream",
     "text": [
      "불용어 개수 : 179\n",
      "['i', 'me', 'my', 'myself', 'we', 'our', 'ours', 'ourselves', 'you', \"you're\", \"you've\", \"you'll\", \"you'd\", 'your', 'yours', 'yourself', 'yourselves', 'he', 'him', 'his', 'himself', 'she', \"she's\", 'her', 'hers', 'herself', 'it', \"it's\", 'its', 'itself', 'they', 'them', 'their', 'theirs', 'themselves', 'what', 'which', 'who', 'whom', 'this', 'that', \"that'll\", 'these', 'those', 'am', 'is', 'are', 'was', 'were', 'be', 'been', 'being', 'have', 'has', 'had', 'having', 'do', 'does', 'did', 'doing', 'a', 'an', 'the', 'and', 'but', 'if', 'or', 'because', 'as', 'until', 'while', 'of', 'at', 'by', 'for', 'with', 'about', 'against', 'between', 'into', 'through', 'during', 'before', 'after', 'above', 'below', 'to', 'from', 'up', 'down', 'in', 'out', 'on', 'off', 'over', 'under', 'again', 'further', 'then', 'once', 'here', 'there', 'when', 'where', 'why', 'how', 'all', 'any', 'both', 'each', 'few', 'more', 'most', 'other', 'some', 'such', 'no', 'nor', 'not', 'only', 'own', 'same', 'so', 'than', 'too', 'very', 's', 't', 'can', 'will', 'just', 'don', \"don't\", 'should', \"should've\", 'now', 'd', 'll', 'm', 'o', 're', 've', 'y', 'ain', 'aren', \"aren't\", 'couldn', \"couldn't\", 'didn', \"didn't\", 'doesn', \"doesn't\", 'hadn', \"hadn't\", 'hasn', \"hasn't\", 'haven', \"haven't\", 'isn', \"isn't\", 'ma', 'mightn', \"mightn't\", 'mustn', \"mustn't\", 'needn', \"needn't\", 'shan', \"shan't\", 'shouldn', \"shouldn't\", 'wasn', \"wasn't\", 'weren', \"weren't\", 'won', \"won't\", 'wouldn', \"wouldn't\"]\n"
     ]
    }
   ],
   "source": [
    "print('불용어 개수 :', len(stopwords.words('english') ))\n",
    "print(stopwords.words('english'))"
   ]
  },
  {
   "cell_type": "code",
   "execution_count": 15,
   "metadata": {},
   "outputs": [],
   "source": [
    "def preprocess_sentence(sentence, remove_stopwords=True):\n",
    "    sentence = sentence.lower() # 텍스트 소문자화\n",
    "    sentence = BeautifulSoup(sentence, \"lxml\").text # <br />, <a href = ...> 등의 html 태그 제거\n",
    "    sentence = re.sub(r'\\([^)]*\\)', '', sentence) # 괄호로 닫힌 문자열 (...) 제거 Ex) my husband (and myself!) for => my husband for\n",
    "    sentence = re.sub('\"','', sentence) # 쌍따옴표 \" 제거\n",
    "    sentence = ' '.join([contractions[t] if t in contractions else t for t in sentence.split(\" \")]) # 약어 정규화\n",
    "    sentence = re.sub(r\"'s\\b\",\"\",sentence) # 소유격 제거. Ex) roland's -> roland\n",
    "    sentence = re.sub(\"[^a-zA-Z]\", \" \", sentence) # 영어 외 문자(숫자, 특수문자 등) 공백으로 변환\n",
    "    sentence = re.sub('[m]{2,}', 'mm', sentence) # m이 3개 이상이면 2개로 변경. Ex) ummmmmmm yeah -> umm yeah\n",
    "    \n",
    "    # 불용어 제거 (Text)\n",
    "    if remove_stopwords:\n",
    "        tokens = ' '.join(word for word in sentence.split() if not word in stopwords.words('english') if len(word) > 1)\n",
    "    # 불용어 미제거 (Summary)\n",
    "    else:\n",
    "        tokens = ' '.join(word for word in sentence.split() if len(word) > 1)\n",
    "    return tokens"
   ]
  },
  {
   "cell_type": "code",
   "execution_count": 16,
   "metadata": {},
   "outputs": [
    {
     "data": {
      "text/plain": [
       "['saurav kant alumnus upgrad iiit pg program machine learning artificial intelligence sr systems engineer infosys almost years work experience program upgrad degree career support helped transition data scientist tech mahindra salary hike upgrad online power learning powered lakh careers',\n",
       " 'kunal shah credit card bill payment platform cred gave users chance win free food swiggy one year pranav kaushik delhi techie bagged reward spending cred coins users get one cred coin per rupee bill paid used avail rewards brands like ixigo bookmyshow ubereats cult fit',\n",
       " 'new zealand defeated india wickets fourth odi hamilton thursday win first match five match odi series india lost international match rohit sharma captaincy consecutive victories dating back march match witnessed india getting seventh lowest total odi cricket history',\n",
       " 'aegon life iterm insurance plan customers enjoy tax benefits premiums paid save taxes plan provides life cover age years also customers options insure critical illnesses disability accidental death benefit rider life cover age years',\n",
       " 'speaking sexual harassment allegations rajkumar hirani sonam kapoor said known hirani many years true metoo movement get derailed metoo movement always believe woman case need reserve judgment added hirani accused assistant worked sanju']"
      ]
     },
     "execution_count": 16,
     "metadata": {},
     "output_type": "execute_result"
    }
   ],
   "source": [
    "clean_text = []\n",
    "\n",
    "for s in data['text']:\n",
    "    clean_text.append(preprocess_sentence(s))\n",
    "\n",
    "clean_text[:5]"
   ]
  },
  {
   "cell_type": "code",
   "execution_count": 18,
   "metadata": {},
   "outputs": [
    {
     "data": {
      "text/plain": [
       "['upgrad learner switches to career in ml al with salary hike',\n",
       " 'delhi techie wins free food from swiggy for one year on cred',\n",
       " 'new zealand end rohit sharma led india match winning streak',\n",
       " 'aegon life iterm insurance plan helps customers save tax',\n",
       " 'have known hirani for yrs what if metoo claims are not true sonam']"
      ]
     },
     "execution_count": 18,
     "metadata": {},
     "output_type": "execute_result"
    }
   ],
   "source": [
    "clean_summary = []\n",
    "\n",
    "for s in data['headlines']:\n",
    "    clean_summary.append(preprocess_sentence(s, False))\n",
    "\n",
    "clean_summary[:5]"
   ]
  },
  {
   "cell_type": "code",
   "execution_count": 19,
   "metadata": {},
   "outputs": [
    {
     "name": "stdout",
     "output_type": "stream",
     "text": [
      "텍스트의 최소 길이 : 1\n",
      "텍스트의 최대 길이 : 91\n",
      "텍스트의 평균 길이 : 58.23813542090281\n",
      "요약의 최소 길이 : 1\n",
      "요약의 최대 길이 : 18\n",
      "요약의 평균 길이 : 9.553660024400163\n"
     ]
    },
    {
     "data": {
      "image/png": "[encoded data removed]",
      "text/plain": [
       "<Figure size 432x288 with 2 Axes>"
      ]
     },
     "metadata": {
      "needs_background": "light"
     },
     "output_type": "display_data"
    },
    {
     "data": {
      "image/png": "[encoded data removed]",
      "text/plain": [
       "<Figure size 432x288 with 1 Axes>"
      ]
     },
     "metadata": {
      "needs_background": "light"
     },
     "output_type": "display_data"
    },
    {
     "data": {
      "image/png": "[encoded data removed]",
      "text/plain": [
       "<Figure size 432x288 with 1 Axes>"
      ]
     },
     "metadata": {
      "needs_background": "light"
     },
     "output_type": "display_data"
    }
   ],
   "source": [
    "# 길이 분포 출력\n",
    "import matplotlib.pyplot as plt\n",
    "\n",
    "text_len = [len(s.split()) for s in data['text']]\n",
    "headlines_len = [len(s.split()) for s in data['headlines']]\n",
    "\n",
    "print('텍스트의 최소 길이 : {}'.format(np.min(text_len)))\n",
    "print('텍스트의 최대 길이 : {}'.format(np.max(text_len)))\n",
    "print('텍스트의 평균 길이 : {}'.format(np.mean(text_len)))\n",
    "print('헤드라인의 최소 길이 : {}'.format(np.min(headlines_len)))\n",
    "print('헤드라인의 최대 길이 : {}'.format(np.max(headlines_len)))\n",
    "print('헤드라인의 평균 길이 : {}'.format(np.mean(headlines_len)))\n",
    "\n",
    "plt.subplot(1,2,1)\n",
    "plt.boxplot(headlines_len)\n",
    "plt.title('headlines')\n",
    "plt.subplot(1,2,2)\n",
    "plt.boxplot(text_len)\n",
    "plt.title('Text')\n",
    "plt.tight_layout()\n",
    "plt.show()\n",
    "\n",
    "plt.title('headlines')\n",
    "plt.hist(headlines_len, bins = 40)\n",
    "plt.xlabel('length of samples')\n",
    "plt.ylabel('number of samples')\n",
    "plt.show()\n",
    "\n",
    "plt.title('Text')\n",
    "plt.hist(text_len, bins = 40)\n",
    "plt.xlabel('length of samples')\n",
    "plt.ylabel('number of samples')\n",
    "plt.show()"
   ]
  },
  {
   "cell_type": "code",
   "execution_count": 48,
   "metadata": {},
   "outputs": [],
   "source": [
    "text_max_len = 60\n",
    "headlines_max_len = 12"
   ]
  },
  {
   "cell_type": "code",
   "execution_count": 49,
   "metadata": {},
   "outputs": [],
   "source": [
    "def below_threshold_len(max_len, nested_list):\n",
    "  cnt = 0\n",
    "  for s in nested_list:\n",
    "    if(len(s.split()) <= max_len):\n",
    "        cnt = cnt + 1\n",
    "  print('전체 샘플 중 길이가 %s 이하인 샘플의 비율: %s'%(max_len, (cnt / len(nested_list))))"
   ]
  },
  {
   "cell_type": "code",
   "execution_count": 50,
   "metadata": {},
   "outputs": [
    {
     "name": "stdout",
     "output_type": "stream",
     "text": [
      "전체 샘플 중 길이가 60 이하인 샘플의 비율: 0.997448149654331\n",
      "전체 샘플 중 길이가 12 이하인 샘플의 비율: 0.9768198454656364\n"
     ]
    }
   ],
   "source": [
    "below_threshold_len(text_max_len, data['text'])\n",
    "below_threshold_len(headlines_max_len,  data['headlines'])"
   ]
  },
  {
   "cell_type": "code",
   "execution_count": 51,
   "metadata": {},
   "outputs": [
    {
     "name": "stdout",
     "output_type": "stream",
     "text": [
      "전체 샘플수 : 95838\n"
     ]
    }
   ],
   "source": [
    "data = data[data['text'].apply(lambda x: len(x.split()) <= text_max_len)]\n",
    "data = data[data['headlines'].apply(lambda x: len(x.split()) <= headlines_max_len)]\n",
    "print('전체 샘플수 :',(len(data)))"
   ]
  },
  {
   "cell_type": "code",
   "execution_count": 52,
   "metadata": {},
   "outputs": [
    {
     "data": {
      "text/html": [
       "<div>\n",
       "<style scoped>\n",
       "    .dataframe tbody tr th:only-of-type {\n",
       "        vertical-align: middle;\n",
       "    }\n",
       "\n",
       "    .dataframe tbody tr th {\n",
       "        vertical-align: top;\n",
       "    }\n",
       "\n",
       "    .dataframe thead th {\n",
       "        text-align: right;\n",
       "    }\n",
       "</style>\n",
       "<table border=\"1\" class=\"dataframe\">\n",
       "  <thead>\n",
       "    <tr style=\"text-align: right;\">\n",
       "      <th></th>\n",
       "      <th>headlines</th>\n",
       "      <th>text</th>\n",
       "      <th>decoder_input</th>\n",
       "      <th>decoder_target</th>\n",
       "    </tr>\n",
       "  </thead>\n",
       "  <tbody>\n",
       "    <tr>\n",
       "      <th>1</th>\n",
       "      <td>Delhi techie wins free food from Swiggy for on...</td>\n",
       "      <td>Kunal Shah's credit card bill payment platform...</td>\n",
       "      <td>sostoken Delhi techie wins free food from Swig...</td>\n",
       "      <td>Delhi techie wins free food from Swiggy for on...</td>\n",
       "    </tr>\n",
       "    <tr>\n",
       "      <th>2</th>\n",
       "      <td>New Zealand end Rohit Sharma-led India's 12-ma...</td>\n",
       "      <td>New Zealand defeated India by 8 wickets in the...</td>\n",
       "      <td>sostoken New Zealand end Rohit Sharma-led Indi...</td>\n",
       "      <td>New Zealand end Rohit Sharma-led India's 12-ma...</td>\n",
       "    </tr>\n",
       "    <tr>\n",
       "      <th>3</th>\n",
       "      <td>Aegon life iTerm insurance plan helps customer...</td>\n",
       "      <td>With Aegon Life iTerm Insurance plan, customer...</td>\n",
       "      <td>sostoken Aegon life iTerm insurance plan helps...</td>\n",
       "      <td>Aegon life iTerm insurance plan helps customer...</td>\n",
       "    </tr>\n",
       "    <tr>\n",
       "      <th>5</th>\n",
       "      <td>Rahat Fateh Ali Khan denies getting notice for...</td>\n",
       "      <td>Pakistani singer Rahat Fateh Ali Khan has deni...</td>\n",
       "      <td>sostoken Rahat Fateh Ali Khan denies getting n...</td>\n",
       "      <td>Rahat Fateh Ali Khan denies getting notice for...</td>\n",
       "    </tr>\n",
       "    <tr>\n",
       "      <th>7</th>\n",
       "      <td>Govt directs Alok Verma to join work 1 day bef...</td>\n",
       "      <td>Weeks after ex-CBI Director Alok Verma told th...</td>\n",
       "      <td>sostoken Govt directs Alok Verma to join work ...</td>\n",
       "      <td>Govt directs Alok Verma to join work 1 day bef...</td>\n",
       "    </tr>\n",
       "  </tbody>\n",
       "</table>\n",
       "</div>"
      ],
      "text/plain": [
       "                                           headlines  \\\n",
       "1  Delhi techie wins free food from Swiggy for on...   \n",
       "2  New Zealand end Rohit Sharma-led India's 12-ma...   \n",
       "3  Aegon life iTerm insurance plan helps customer...   \n",
       "5  Rahat Fateh Ali Khan denies getting notice for...   \n",
       "7  Govt directs Alok Verma to join work 1 day bef...   \n",
       "\n",
       "                                                text  \\\n",
       "1  Kunal Shah's credit card bill payment platform...   \n",
       "2  New Zealand defeated India by 8 wickets in the...   \n",
       "3  With Aegon Life iTerm Insurance plan, customer...   \n",
       "5  Pakistani singer Rahat Fateh Ali Khan has deni...   \n",
       "7  Weeks after ex-CBI Director Alok Verma told th...   \n",
       "\n",
       "                                       decoder_input  \\\n",
       "1  sostoken Delhi techie wins free food from Swig...   \n",
       "2  sostoken New Zealand end Rohit Sharma-led Indi...   \n",
       "3  sostoken Aegon life iTerm insurance plan helps...   \n",
       "5  sostoken Rahat Fateh Ali Khan denies getting n...   \n",
       "7  sostoken Govt directs Alok Verma to join work ...   \n",
       "\n",
       "                                      decoder_target  \n",
       "1  Delhi techie wins free food from Swiggy for on...  \n",
       "2  New Zealand end Rohit Sharma-led India's 12-ma...  \n",
       "3  Aegon life iTerm insurance plan helps customer...  \n",
       "5  Rahat Fateh Ali Khan denies getting notice for...  \n",
       "7  Govt directs Alok Verma to join work 1 day bef...  "
      ]
     },
     "execution_count": 52,
     "metadata": {},
     "output_type": "execute_result"
    }
   ],
   "source": [
    "data['decoder_input'] = data['headlines'].apply(lambda x : 'sostoken '+ x)\n",
    "data['decoder_target'] = data['headlines'].apply(lambda x : x + ' eostoken')\n",
    "data.head()"
   ]
  },
  {
   "cell_type": "code",
   "execution_count": 53,
   "metadata": {},
   "outputs": [],
   "source": [
    "encoder_input = np.array(data['text']) # 인코더의 입력\n",
    "decoder_input = np.array(data['decoder_input']) # 디코더의 입력\n",
    "decoder_target = np.array(data['decoder_target']) # 디코더의 레이블"
   ]
  },
  {
   "cell_type": "code",
   "execution_count": 54,
   "metadata": {},
   "outputs": [
    {
     "name": "stdout",
     "output_type": "stream",
     "text": [
      "[52435 38029 72742 ... 75489 43286 26139]\n"
     ]
    }
   ],
   "source": [
    "indices = np.arange(encoder_input.shape[0])\n",
    "np.random.shuffle(indices)\n",
    "print(indices)"
   ]
  },
  {
   "cell_type": "code",
   "execution_count": 55,
   "metadata": {},
   "outputs": [],
   "source": [
    "encoder_input = encoder_input[indices]\n",
    "decoder_input = decoder_input[indices]\n",
    "decoder_target = decoder_target[indices]"
   ]
  },
  {
   "cell_type": "code",
   "execution_count": 56,
   "metadata": {},
   "outputs": [
    {
     "name": "stdout",
     "output_type": "stream",
     "text": [
      "테스트 데이터의 수 : 19167\n"
     ]
    }
   ],
   "source": [
    "n_of_val = int(len(encoder_input)*0.2)\n",
    "print('테스트 데이터의 수 :',n_of_val)"
   ]
  },
  {
   "cell_type": "code",
   "execution_count": 57,
   "metadata": {},
   "outputs": [
    {
     "name": "stdout",
     "output_type": "stream",
     "text": [
      "훈련 데이터의 개수 : 76671\n",
      "훈련 레이블의 개수 : 76671\n",
      "테스트 데이터의 개수 : 19167\n",
      "테스트 레이블의 개수 : 19167\n"
     ]
    }
   ],
   "source": [
    "encoder_input_train = encoder_input[:-n_of_val]\n",
    "decoder_input_train = decoder_input[:-n_of_val]\n",
    "decoder_target_train = decoder_target[:-n_of_val]\n",
    "\n",
    "encoder_input_test = encoder_input[-n_of_val:]\n",
    "decoder_input_test = decoder_input[-n_of_val:]\n",
    "decoder_target_test = decoder_target[-n_of_val:]\n",
    "\n",
    "print('훈련 데이터의 개수 :', len(encoder_input_train))\n",
    "print('훈련 레이블의 개수 :',len(decoder_input_train))\n",
    "print('테스트 데이터의 개수 :',len(encoder_input_test))\n",
    "print('테스트 레이블의 개수 :',len(decoder_input_test))"
   ]
  },
  {
   "cell_type": "code",
   "execution_count": 58,
   "metadata": {},
   "outputs": [],
   "source": [
    "src_tokenizer = Tokenizer() # 토크나이저 정의\n",
    "src_tokenizer.fit_on_texts(encoder_input_train) # 입력된 데이터로부터 단어 집합 생성"
   ]
  },
  {
   "cell_type": "code",
   "execution_count": 59,
   "metadata": {},
   "outputs": [
    {
     "name": "stdout",
     "output_type": "stream",
     "text": [
      "단어 집합(vocabulary)의 크기 : 90415\n",
      "등장 빈도가 6번 이하인 희귀 단어의 수: 65924\n",
      "단어 집합에서 희귀 단어를 제외시킬 경우의 단어 집합의 크기 24491\n",
      "단어 집합에서 희귀 단어의 비율: 72.91268041807221\n",
      "전체 등장 빈도에서 희귀 단어 등장 빈도 비율: 2.776513487189288\n"
     ]
    }
   ],
   "source": [
    "threshold = 7\n",
    "total_cnt = len(src_tokenizer.word_index) # 단어의 수\n",
    "rare_cnt = 0 # 등장 빈도수가 threshold보다 작은 단어의 개수를 카운트\n",
    "total_freq = 0 # 훈련 데이터의 전체 단어 빈도수 총 합\n",
    "rare_freq = 0 # 등장 빈도수가 threshold보다 작은 단어의 등장 빈도수의 총 합\n",
    "\n",
    "# 단어와 빈도수의 쌍(pair)을 key와 value로 받는다.\n",
    "for key, value in src_tokenizer.word_counts.items():\n",
    "    total_freq = total_freq + value\n",
    "\n",
    "    # 단어의 등장 빈도수가 threshold보다 작으면\n",
    "    if(value < threshold):\n",
    "        rare_cnt = rare_cnt + 1\n",
    "        rare_freq = rare_freq + value\n",
    "\n",
    "print('단어 집합(vocabulary)의 크기 :',total_cnt)\n",
    "print('등장 빈도가 %s번 이하인 희귀 단어의 수: %s'%(threshold - 1, rare_cnt))\n",
    "print('단어 집합에서 희귀 단어를 제외시킬 경우의 단어 집합의 크기 %s'%(total_cnt - rare_cnt))\n",
    "print(\"단어 집합에서 희귀 단어의 비율:\", (rare_cnt / total_cnt)*100)\n",
    "print(\"전체 등장 빈도에서 희귀 단어 등장 빈도 비율:\", (rare_freq / total_freq)*100)"
   ]
  },
  {
   "cell_type": "code",
   "execution_count": 60,
   "metadata": {},
   "outputs": [],
   "source": [
    "src_vocab = 8000\n",
    "src_tokenizer = Tokenizer(num_words = src_vocab) # 단어 집합의 크기를 8,000으로 제한\n",
    "src_tokenizer.fit_on_texts(encoder_input_train) # 단어 집합 재생성."
   ]
  },
  {
   "cell_type": "code",
   "execution_count": 61,
   "metadata": {},
   "outputs": [
    {
     "name": "stdout",
     "output_type": "stream",
     "text": [
      "[[3, 4010, 2833, 126, 7403, 8, 3, 7, 277, 1, 1646, 1798, 19, 1, 7403, 4010, 964, 1, 2833, 23, 2, 1, 4995, 6, 1612, 511, 202, 1, 4010, 30, 83, 230, 209, 67, 2333, 906, 253, 2813, 6, 3500, 24, 1521, 218, 7599, 3405, 6, 54, 4371], [16, 35, 132, 67, 6290, 1199, 1994, 1, 415, 4757, 1697, 326, 813, 8, 148, 11, 201, 25, 4, 51, 991, 5, 495, 8, 686, 4030, 92, 1996, 795, 6, 4, 1, 1280, 871, 323, 34, 814, 2, 1760, 164, 118, 1311, 2, 26, 1199, 217, 5797, 2111, 2, 6499, 2228, 19, 1, 876], [642, 26, 5172, 1, 1117, 592, 9, 1, 877, 4960, 2, 84, 3369, 3453, 4, 1, 3880, 53, 2554, 217, 71, 1787, 6, 3406, 5, 1, 464, 2095, 1, 71, 3406, 13, 89, 7, 758, 573, 1787, 1983, 4124, 54, 1078, 18, 6566, 46, 1659, 19, 2, 5522]]\n"
     ]
    }
   ],
   "source": [
    "# 텍스트 시퀀스를 정수 시퀀스로 변환\n",
    "encoder_input_train = src_tokenizer.texts_to_sequences(encoder_input_train) \n",
    "encoder_input_test = src_tokenizer.texts_to_sequences(encoder_input_test)\n",
    "\n",
    "#잘 진행되었는지 샘플 출력\n",
    "print(encoder_input_train[:3])"
   ]
  },
  {
   "cell_type": "code",
   "execution_count": 62,
   "metadata": {},
   "outputs": [],
   "source": [
    "tar_tokenizer = Tokenizer()\n",
    "tar_tokenizer.fit_on_texts(decoder_input_train)"
   ]
  },
  {
   "cell_type": "code",
   "execution_count": 63,
   "metadata": {},
   "outputs": [
    {
     "name": "stdout",
     "output_type": "stream",
     "text": [
      "단어 집합(vocabulary)의 크기 : 40532\n",
      "등장 빈도가 5번 이하인 희귀 단어의 수: 29373\n",
      "단어 집합에서 희귀 단어를 제외시킬 경우의 단어 집합의 크기 11159\n",
      "단어 집합에서 희귀 단어의 비율: 72.4686667324583\n",
      "전체 등장 빈도에서 희귀 단어 등장 빈도 비율: 6.343374731261857\n"
     ]
    }
   ],
   "source": [
    "threshold = 6\n",
    "total_cnt = len(tar_tokenizer.word_index) # 단어의 수\n",
    "rare_cnt = 0 # 등장 빈도수가 threshold보다 작은 단어의 개수를 카운트\n",
    "total_freq = 0 # 훈련 데이터의 전체 단어 빈도수 총 합\n",
    "rare_freq = 0 # 등장 빈도수가 threshold보다 작은 단어의 등장 빈도수의 총 합\n",
    "\n",
    "# 단어와 빈도수의 쌍(pair)을 key와 value로 받는다.\n",
    "for key, value in tar_tokenizer.word_counts.items():\n",
    "    total_freq = total_freq + value\n",
    "\n",
    "    # 단어의 등장 빈도수가 threshold보다 작으면\n",
    "    if(value < threshold):\n",
    "        rare_cnt = rare_cnt + 1\n",
    "        rare_freq = rare_freq + value\n",
    "\n",
    "print('단어 집합(vocabulary)의 크기 :',total_cnt)\n",
    "print('등장 빈도가 %s번 이하인 희귀 단어의 수: %s'%(threshold - 1, rare_cnt))\n",
    "print('단어 집합에서 희귀 단어를 제외시킬 경우의 단어 집합의 크기 %s'%(total_cnt - rare_cnt))\n",
    "print(\"단어 집합에서 희귀 단어의 비율:\", (rare_cnt / total_cnt)*100)\n",
    "print(\"전체 등장 빈도에서 희귀 단어 등장 빈도 비율:\", (rare_freq / total_freq)*100)"
   ]
  },
  {
   "cell_type": "code",
   "execution_count": 64,
   "metadata": {},
   "outputs": [
    {
     "name": "stdout",
     "output_type": "stream",
     "text": [
      "input\n",
      "input  [[1, 11, 1770, 87, 11, 7, 345], [1, 352, 598, 123, 914, 1333, 132, 505], [1, 341, 1077, 3, 42], [1, 487, 129, 259, 860, 1259], [1, 15, 106, 89, 47, 573, 740, 291, 3, 1567, 610]]\n",
      "target\n",
      "decoder  [[11, 1770, 87, 11, 7, 345, 2], [352, 598, 123, 914, 1333, 132, 505, 2], [341, 1077, 3, 42, 2], [487, 129, 259, 860, 1259, 2], [15, 106, 89, 47, 573, 740, 291, 3, 1567, 610, 2]]\n"
     ]
    }
   ],
   "source": [
    "tar_vocab = 2000\n",
    "tar_tokenizer = Tokenizer(num_words = tar_vocab) \n",
    "tar_tokenizer.fit_on_texts(decoder_input_train)\n",
    "tar_tokenizer.fit_on_texts(decoder_target_train)\n",
    "\n",
    "# 텍스트 시퀀스를 정수 시퀀스로 변환\n",
    "decoder_input_train = tar_tokenizer.texts_to_sequences(decoder_input_train) \n",
    "decoder_target_train = tar_tokenizer.texts_to_sequences(decoder_target_train)\n",
    "decoder_input_test = tar_tokenizer.texts_to_sequences(decoder_input_test)\n",
    "decoder_target_test = tar_tokenizer.texts_to_sequences(decoder_target_test)\n",
    "\n",
    "#잘 변환되었는지 확인\n",
    "print('input')\n",
    "print('input ',decoder_input_train[:5])\n",
    "print('target')\n",
    "print('decoder ',decoder_target_train[:5])"
   ]
  },
  {
   "cell_type": "code",
   "execution_count": 65,
   "metadata": {},
   "outputs": [
    {
     "name": "stdout",
     "output_type": "stream",
     "text": [
      "삭제할 훈련 데이터의 개수 : 15\n",
      "삭제할 테스트 데이터의 개수 : 6\n",
      "훈련 데이터의 개수 : 76656\n",
      "훈련 레이블의 개수 : 76656\n",
      "테스트 데이터의 개수 : 19161\n",
      "테스트 레이블의 개수 : 19161\n"
     ]
    }
   ],
   "source": [
    "drop_train = [index for index, sentence in enumerate(decoder_input_train) if len(sentence) == 1]\n",
    "drop_test = [index for index, sentence in enumerate(decoder_input_test) if len(sentence) == 1]\n",
    "\n",
    "print('삭제할 훈련 데이터의 개수 :',len(drop_train))\n",
    "print('삭제할 테스트 데이터의 개수 :',len(drop_test))\n",
    "\n",
    "encoder_input_train = np.delete(encoder_input_train, drop_train, axis=0)\n",
    "decoder_input_train = np.delete(decoder_input_train, drop_train, axis=0)\n",
    "decoder_target_train = np.delete(decoder_target_train, drop_train, axis=0)\n",
    "\n",
    "encoder_input_test = np.delete(encoder_input_test, drop_test, axis=0)\n",
    "decoder_input_test = np.delete(decoder_input_test, drop_test, axis=0)\n",
    "decoder_target_test = np.delete(decoder_target_test, drop_test, axis=0)\n",
    "\n",
    "print('훈련 데이터의 개수 :', len(encoder_input_train))\n",
    "print('훈련 레이블의 개수 :',len(decoder_input_train))\n",
    "print('테스트 데이터의 개수 :',len(encoder_input_test))\n",
    "print('테스트 레이블의 개수 :',len(decoder_input_test))"
   ]
  },
  {
   "cell_type": "code",
   "execution_count": 66,
   "metadata": {},
   "outputs": [],
   "source": [
    "encoder_input_train = pad_sequences(encoder_input_train, maxlen = text_max_len, padding='post')\n",
    "encoder_input_test = pad_sequences(encoder_input_test, maxlen = text_max_len, padding='post')\n",
    "decoder_input_train = pad_sequences(decoder_input_train, maxlen = summary_max_len, padding='post')\n",
    "decoder_target_train = pad_sequences(decoder_target_train, maxlen = summary_max_len, padding='post')\n",
    "decoder_input_test = pad_sequences(decoder_input_test, maxlen = summary_max_len, padding='post')\n",
    "decoder_target_test = pad_sequences(decoder_target_test, maxlen = summary_max_len, padding='post')"
   ]
  },
  {
   "cell_type": "markdown",
   "metadata": {},
   "source": [
    "##### Step 3. 어텐션 메커니즘 사용하기 (추상적 요약)\n",
    "\n",
    "일반적인 seq2seq보다는 어텐션 메커니즘을 사용한 seq2seq를 사용하는 것이 더 나은 성능을 얻을 수 있어요. 실습 내용을 참고하여 어텐션 메커니즘을 사용한 seq2seq를 설계해 보세요."
   ]
  },
  {
   "cell_type": "code",
   "execution_count": 70,
   "metadata": {},
   "outputs": [
    {
     "name": "stdout",
     "output_type": "stream",
     "text": [
      "WARNING:tensorflow:Layer lstm will not use cuDNN kernel since it doesn't meet the cuDNN kernel criteria. It will use generic GPU kernel as fallback when running on GPU\n",
      "WARNING:tensorflow:Layer lstm_1 will not use cuDNN kernel since it doesn't meet the cuDNN kernel criteria. It will use generic GPU kernel as fallback when running on GPU\n",
      "WARNING:tensorflow:Layer lstm_2 will not use cuDNN kernel since it doesn't meet the cuDNN kernel criteria. It will use generic GPU kernel as fallback when running on GPU\n"
     ]
    }
   ],
   "source": [
    "from tensorflow.keras.layers import Input, LSTM, Embedding, Dense, Concatenate\n",
    "from tensorflow.keras.models import Model\n",
    "from tensorflow.keras.callbacks import EarlyStopping, ModelCheckpoint\n",
    "\n",
    "\n",
    "# 인코더 설계 시작\n",
    "embedding_dim = 128\n",
    "hidden_size = 256\n",
    "\n",
    "# 인코더\n",
    "encoder_inputs = Input(shape=(text_max_len,))\n",
    "\n",
    "# 인코더의 임베딩 층\n",
    "enc_emb = Embedding(src_vocab, embedding_dim)(encoder_inputs)\n",
    "\n",
    "# 인코더의 LSTM 1\n",
    "encoder_lstm1 = LSTM(hidden_size, return_sequences=True, return_state=True ,dropout = 0.4, recurrent_dropout = 0.4)\n",
    "encoder_output1, state_h1, state_c1 = encoder_lstm1(enc_emb)\n",
    "\n",
    "# 인코더의 LSTM 2\n",
    "encoder_lstm2 = LSTM(hidden_size, return_sequences=True, return_state=True, dropout=0.4, recurrent_dropout=0.4)\n",
    "encoder_output2, state_h2, state_c2 = encoder_lstm2(encoder_output1)\n",
    "\n",
    "# 인코더의 LSTM 3\n",
    "encoder_lstm3 = LSTM(hidden_size, return_state=True, return_sequences=True, dropout=0.4, recurrent_dropout=0.4)\n",
    "encoder_outputs, state_h, state_c= encoder_lstm3(encoder_output2)"
   ]
  },
  {
   "cell_type": "code",
   "execution_count": 71,
   "metadata": {},
   "outputs": [
    {
     "name": "stdout",
     "output_type": "stream",
     "text": [
      "WARNING:tensorflow:Layer lstm_3 will not use cuDNN kernel since it doesn't meet the cuDNN kernel criteria. It will use generic GPU kernel as fallback when running on GPU\n"
     ]
    }
   ],
   "source": [
    "# 디코더 설계\n",
    "\n",
    "decoder_inputs = Input(shape=(None,))\n",
    "\n",
    "# 디코더의 임베딩 층\n",
    "dec_emb_layer = Embedding(tar_vocab, embedding_dim)\n",
    "dec_emb = dec_emb_layer(decoder_inputs)\n",
    "\n",
    "# 디코더의 LSTM\n",
    "decoder_lstm = LSTM(hidden_size, return_sequences = True, return_state = True, dropout = 0.4, recurrent_dropout=0.2)\n",
    "decoder_outputs, _, _ = decoder_lstm(dec_emb, initial_state = [state_h, state_c])"
   ]
  },
  {
   "cell_type": "code",
   "execution_count": 72,
   "metadata": {},
   "outputs": [
    {
     "name": "stdout",
     "output_type": "stream",
     "text": [
      "Model: \"functional_1\"\n",
      "__________________________________________________________________________________________________\n",
      "Layer (type)                    Output Shape         Param #     Connected to                     \n",
      "==================================================================================================\n",
      "input_2 (InputLayer)            [(None, 60)]         0                                            \n",
      "__________________________________________________________________________________________________\n",
      "embedding_1 (Embedding)         (None, 60, 128)      1024000     input_2[0][0]                    \n",
      "__________________________________________________________________________________________________\n",
      "lstm (LSTM)                     [(None, 60, 256), (N 394240      embedding_1[0][0]                \n",
      "__________________________________________________________________________________________________\n",
      "input_3 (InputLayer)            [(None, None)]       0                                            \n",
      "__________________________________________________________________________________________________\n",
      "lstm_1 (LSTM)                   [(None, 60, 256), (N 525312      lstm[0][0]                       \n",
      "__________________________________________________________________________________________________\n",
      "embedding_2 (Embedding)         (None, None, 128)    256000      input_3[0][0]                    \n",
      "__________________________________________________________________________________________________\n",
      "lstm_2 (LSTM)                   [(None, 60, 256), (N 525312      lstm_1[0][0]                     \n",
      "__________________________________________________________________________________________________\n",
      "lstm_3 (LSTM)                   [(None, None, 256),  394240      embedding_2[0][0]                \n",
      "                                                                 lstm_2[0][1]                     \n",
      "                                                                 lstm_2[0][2]                     \n",
      "__________________________________________________________________________________________________\n",
      "dense (Dense)                   (None, None, 2000)   514000      lstm_3[0][0]                     \n",
      "==================================================================================================\n",
      "Total params: 3,633,104\n",
      "Trainable params: 3,633,104\n",
      "Non-trainable params: 0\n",
      "__________________________________________________________________________________________________\n"
     ]
    }
   ],
   "source": [
    "# 디코더의 출력층\n",
    "decoder_softmax_layer = Dense(tar_vocab, activation = 'softmax')\n",
    "decoder_softmax_outputs = decoder_softmax_layer(decoder_outputs) \n",
    "\n",
    "# 모델 정의\n",
    "model = Model([encoder_inputs, decoder_inputs], decoder_softmax_outputs)\n",
    "model.summary()"
   ]
  },
  {
   "cell_type": "code",
   "execution_count": 73,
   "metadata": {},
   "outputs": [],
   "source": [
    "from attention import AttentionLayer"
   ]
  },
  {
   "cell_type": "code",
   "execution_count": 74,
   "metadata": {},
   "outputs": [
    {
     "name": "stdout",
     "output_type": "stream",
     "text": [
      "Model: \"functional_3\"\n",
      "__________________________________________________________________________________________________\n",
      "Layer (type)                    Output Shape         Param #     Connected to                     \n",
      "==================================================================================================\n",
      "input_2 (InputLayer)            [(None, 60)]         0                                            \n",
      "__________________________________________________________________________________________________\n",
      "embedding_1 (Embedding)         (None, 60, 128)      1024000     input_2[0][0]                    \n",
      "__________________________________________________________________________________________________\n",
      "lstm (LSTM)                     [(None, 60, 256), (N 394240      embedding_1[0][0]                \n",
      "__________________________________________________________________________________________________\n",
      "input_3 (InputLayer)            [(None, None)]       0                                            \n",
      "__________________________________________________________________________________________________\n",
      "lstm_1 (LSTM)                   [(None, 60, 256), (N 525312      lstm[0][0]                       \n",
      "__________________________________________________________________________________________________\n",
      "embedding_2 (Embedding)         (None, None, 128)    256000      input_3[0][0]                    \n",
      "__________________________________________________________________________________________________\n",
      "lstm_2 (LSTM)                   [(None, 60, 256), (N 525312      lstm_1[0][0]                     \n",
      "__________________________________________________________________________________________________\n",
      "lstm_3 (LSTM)                   [(None, None, 256),  394240      embedding_2[0][0]                \n",
      "                                                                 lstm_2[0][1]                     \n",
      "                                                                 lstm_2[0][2]                     \n",
      "__________________________________________________________________________________________________\n",
      "attention_layer (AttentionLayer ((None, None, 256),  131328      lstm_2[0][0]                     \n",
      "                                                                 lstm_3[0][0]                     \n",
      "__________________________________________________________________________________________________\n",
      "concat_layer (Concatenate)      (None, None, 512)    0           lstm_3[0][0]                     \n",
      "                                                                 attention_layer[0][0]            \n",
      "__________________________________________________________________________________________________\n",
      "dense_1 (Dense)                 (None, None, 2000)   1026000     concat_layer[0][0]               \n",
      "==================================================================================================\n",
      "Total params: 4,276,432\n",
      "Trainable params: 4,276,432\n",
      "Non-trainable params: 0\n",
      "__________________________________________________________________________________________________\n"
     ]
    }
   ],
   "source": [
    "# 어텐션 층(어텐션 함수)\n",
    "attn_layer = AttentionLayer(name='attention_layer')\n",
    "# 인코더와 디코더의 모든 time step의 hidden state를 어텐션 층에 전달하고 결과를 리턴\n",
    "attn_out, attn_states = attn_layer([encoder_outputs, decoder_outputs])\n",
    "\n",
    "# 어텐션의 결과와 디코더의 hidden state들을 연결\n",
    "decoder_concat_input = Concatenate(axis = -1, name='concat_layer')([decoder_outputs, attn_out])\n",
    "\n",
    "# 디코더의 출력층\n",
    "decoder_softmax_layer = Dense(tar_vocab, activation='softmax')\n",
    "decoder_softmax_outputs = decoder_softmax_layer(decoder_concat_input)\n",
    "\n",
    "# 모델 정의\n",
    "model = Model([encoder_inputs, decoder_inputs], decoder_softmax_outputs)\n",
    "model.summary()"
   ]
  },
  {
   "cell_type": "code",
   "execution_count": 75,
   "metadata": {
    "scrolled": false
   },
   "outputs": [
    {
     "name": "stdout",
     "output_type": "stream",
     "text": [
      "Epoch 1/50\n",
      "300/300 [==============================] - 99s 330ms/step - loss: 4.6203 - val_loss: 4.3422\n",
      "Epoch 2/50\n",
      "300/300 [==============================] - 99s 329ms/step - loss: 4.1514 - val_loss: 3.9552\n",
      "Epoch 3/50\n",
      "300/300 [==============================] - 99s 329ms/step - loss: 3.8022 - val_loss: 3.6850\n",
      "Epoch 4/50\n",
      "300/300 [==============================] - 99s 329ms/step - loss: 3.5581 - val_loss: 3.5012\n",
      "Epoch 5/50\n",
      "300/300 [==============================] - 99s 329ms/step - loss: 3.3802 - val_loss: 3.3648\n",
      "Epoch 6/50\n",
      "300/300 [==============================] - 99s 329ms/step - loss: 3.2378 - val_loss: 3.2768\n",
      "Epoch 7/50\n",
      "300/300 [==============================] - 99s 330ms/step - loss: 3.1174 - val_loss: 3.1741\n",
      "Epoch 8/50\n",
      "300/300 [==============================] - 99s 330ms/step - loss: 3.0162 - val_loss: 3.1108\n",
      "Epoch 9/50\n",
      "300/300 [==============================] - 99s 329ms/step - loss: 2.9258 - val_loss: 3.0465\n",
      "Epoch 10/50\n",
      "300/300 [==============================] - 99s 330ms/step - loss: 2.8441 - val_loss: 3.0048\n",
      "Epoch 11/50\n",
      "300/300 [==============================] - 99s 330ms/step - loss: 2.7738 - val_loss: 2.9668\n",
      "Epoch 12/50\n",
      "300/300 [==============================] - 99s 330ms/step - loss: 2.7062 - val_loss: 2.9206\n",
      "Epoch 13/50\n",
      "300/300 [==============================] - 99s 330ms/step - loss: 2.6462 - val_loss: 2.8971\n",
      "Epoch 14/50\n",
      "300/300 [==============================] - 99s 329ms/step - loss: 2.5899 - val_loss: 2.8706\n",
      "Epoch 15/50\n",
      "300/300 [==============================] - 99s 329ms/step - loss: 2.5391 - val_loss: 2.8399\n",
      "Epoch 16/50\n",
      "300/300 [==============================] - 99s 330ms/step - loss: 2.4919 - val_loss: 2.8387\n",
      "Epoch 17/50\n",
      "300/300 [==============================] - 99s 330ms/step - loss: 2.4473 - val_loss: 2.8160\n",
      "Epoch 18/50\n",
      "300/300 [==============================] - 99s 331ms/step - loss: 2.4046 - val_loss: 2.7992\n",
      "Epoch 19/50\n",
      "300/300 [==============================] - 102s 339ms/step - loss: 2.3671 - val_loss: 2.7860\n",
      "Epoch 20/50\n",
      "300/300 [==============================] - 100s 333ms/step - loss: 2.3306 - val_loss: 2.7714\n",
      "Epoch 21/50\n",
      "300/300 [==============================] - 99s 330ms/step - loss: 2.2941 - val_loss: 2.7587\n",
      "Epoch 22/50\n",
      "300/300 [==============================] - 99s 331ms/step - loss: 2.2636 - val_loss: 2.7533\n",
      "Epoch 23/50\n",
      "300/300 [==============================] - 99s 330ms/step - loss: 2.2323 - val_loss: 2.7506\n",
      "Epoch 24/50\n",
      "300/300 [==============================] - 99s 330ms/step - loss: 2.2030 - val_loss: 2.7390\n",
      "Epoch 25/50\n",
      "300/300 [==============================] - 99s 330ms/step - loss: 2.1769 - val_loss: 2.7369\n",
      "Epoch 26/50\n",
      "300/300 [==============================] - 99s 330ms/step - loss: 2.1501 - val_loss: 2.7364\n",
      "Epoch 27/50\n",
      "300/300 [==============================] - 99s 330ms/step - loss: 2.1257 - val_loss: 2.7280\n",
      "Epoch 28/50\n",
      "300/300 [==============================] - 99s 330ms/step - loss: 2.1026 - val_loss: 2.7255\n",
      "Epoch 29/50\n",
      "300/300 [==============================] - 99s 330ms/step - loss: 2.0791 - val_loss: 2.7384\n",
      "Epoch 30/50\n",
      "300/300 [==============================] - 99s 330ms/step - loss: 2.0575 - val_loss: 2.7266\n",
      "Epoch 00030: early stopping\n"
     ]
    }
   ],
   "source": [
    "model.compile(optimizer='rmsprop', loss='sparse_categorical_crossentropy')\n",
    "es = EarlyStopping(monitor='val_loss', mode='min', verbose=1, patience = 2)\n",
    "history = model.fit(x = [encoder_input_train, decoder_input_train], y = decoder_target_train, \\\n",
    "          validation_data = ([encoder_input_test, decoder_input_test], decoder_target_test),\n",
    "          batch_size = 256, callbacks=[es], epochs = 50)"
   ]
  },
  {
   "cell_type": "code",
   "execution_count": 76,
   "metadata": {},
   "outputs": [
    {
     "data": {
      "image/png": "[encoded data removed]",
      "text/plain": [
       "<Figure size 432x288 with 1 Axes>"
      ]
     },
     "metadata": {
      "needs_background": "light"
     },
     "output_type": "display_data"
    }
   ],
   "source": [
    "plt.plot(history.history['loss'], label='train')\n",
    "plt.plot(history.history['val_loss'], label='test')\n",
    "plt.legend()\n",
    "plt.show()"
   ]
  },
  {
   "cell_type": "code",
   "execution_count": 77,
   "metadata": {},
   "outputs": [],
   "source": [
    "src_index_to_word = src_tokenizer.index_word # 원문 단어 집합에서 정수 -> 단어를 얻음\n",
    "tar_word_to_index = tar_tokenizer.word_index # 요약 단어 집합에서 단어 -> 정수를 얻음\n",
    "tar_index_to_word = tar_tokenizer.index_word # 요약 단어 집합에서 정수 -> 단어를 얻음"
   ]
  },
  {
   "cell_type": "code",
   "execution_count": 78,
   "metadata": {},
   "outputs": [],
   "source": [
    "# 인코더 설계\n",
    "encoder_model = Model(inputs=encoder_inputs, outputs=[encoder_outputs, state_h, state_c])\n",
    "\n",
    "# 이전 시점의 상태들을 저장하는 텐서\n",
    "decoder_state_input_h = Input(shape=(hidden_size,))\n",
    "decoder_state_input_c = Input(shape=(hidden_size,))\n",
    "\n",
    "dec_emb2 = dec_emb_layer(decoder_inputs)\n",
    "# 문장의 다음 단어를 예측하기 위해서 초기 상태(initial_state)를 이전 시점의 상태로 사용. 이는 뒤의 함수 decode_sequence()에 구현\n",
    "# 훈련 과정에서와 달리 LSTM의 리턴하는 은닉 상태와 셀 상태인 state_h와 state_c를 버리지 않음.\n",
    "decoder_outputs2, state_h2, state_c2 = decoder_lstm(dec_emb2, initial_state=[decoder_state_input_h, decoder_state_input_c])"
   ]
  },
  {
   "cell_type": "code",
   "execution_count": 79,
   "metadata": {},
   "outputs": [],
   "source": [
    "# 어텐션 함수\n",
    "decoder_hidden_state_input = Input(shape=(text_max_len, hidden_size))\n",
    "attn_out_inf, attn_states_inf = attn_layer([decoder_hidden_state_input, decoder_outputs2])\n",
    "decoder_inf_concat = Concatenate(axis=-1, name='concat')([decoder_outputs2, attn_out_inf])\n",
    "\n",
    "# 디코더의 출력층\n",
    "decoder_outputs2 = decoder_softmax_layer(decoder_inf_concat) \n",
    "\n",
    "# 최종 디코더 모델\n",
    "decoder_model = Model(\n",
    "    [decoder_inputs] + [decoder_hidden_state_input,decoder_state_input_h, decoder_state_input_c],\n",
    "    [decoder_outputs2] + [state_h2, state_c2])"
   ]
  },
  {
   "cell_type": "code",
   "execution_count": 80,
   "metadata": {},
   "outputs": [],
   "source": [
    "def decode_sequence(input_seq):\n",
    "    # 입력으로부터 인코더의 상태를 얻음\n",
    "    e_out, e_h, e_c = encoder_model.predict(input_seq)\n",
    "\n",
    "     # <SOS>에 해당하는 토큰 생성\n",
    "    target_seq = np.zeros((1,1))\n",
    "    target_seq[0, 0] = tar_word_to_index['sostoken']\n",
    "\n",
    "    stop_condition = False\n",
    "    decoded_sentence = ''\n",
    "    while not stop_condition: # stop_condition이 True가 될 때까지 루프 반복\n",
    "\n",
    "        output_tokens, h, c = decoder_model.predict([target_seq] + [e_out, e_h, e_c])\n",
    "        sampled_token_index = np.argmax(output_tokens[0, -1, :])\n",
    "        sampled_token = tar_index_to_word[sampled_token_index]\n",
    "\n",
    "        if(sampled_token!='eostoken'):\n",
    "            decoded_sentence += ' '+sampled_token\n",
    "\n",
    "        #  <eos>에 도달하거나 최대 길이를 넘으면 중단.\n",
    "        if (sampled_token == 'eostoken'  or len(decoded_sentence.split()) >= (summary_max_len-1)):\n",
    "            stop_condition = True\n",
    "\n",
    "        # 길이가 1인 타겟 시퀀스를 업데이트\n",
    "        target_seq = np.zeros((1,1))\n",
    "        target_seq[0, 0] = sampled_token_index\n",
    "\n",
    "        # 상태를 업데이트 합니다.\n",
    "        e_h, e_c = h, c\n",
    "\n",
    "    return decoded_sentence"
   ]
  },
  {
   "cell_type": "markdown",
   "metadata": {},
   "source": [
    "##### Step 4. 실제 결과와 요약문 비교하기 (추상적 요약)\n",
    "\n",
    "원래의 요약문(headlines 열)과 학습을 통해 얻은 추상적 요약의 결과를 비교해보세요."
   ]
  },
  {
   "cell_type": "code",
   "execution_count": 81,
   "metadata": {},
   "outputs": [],
   "source": [
    "# 원문의 정수 시퀀스를 텍스트 시퀀스로 변환\n",
    "def seq2text(input_seq):\n",
    "    temp=''\n",
    "    for i in input_seq:\n",
    "        if(i!=0):\n",
    "            temp = temp + src_index_to_word[i]+' '\n",
    "    return temp\n",
    "\n",
    "# 요약문의 정수 시퀀스를 텍스트 시퀀스로 변환\n",
    "def seq2summary(input_seq):\n",
    "    temp=''\n",
    "    for i in input_seq:\n",
    "        if((i!=0 and i!=tar_word_to_index['sostoken']) and i!=tar_word_to_index['eostoken']):\n",
    "            temp = temp + tar_index_to_word[i] + ' '\n",
    "    return temp"
   ]
  },
  {
   "cell_type": "code",
   "execution_count": 82,
   "metadata": {},
   "outputs": [
    {
     "name": "stdout",
     "output_type": "stream",
     "text": [
      "원문 : at least 15 people were killed and 13 others injured on sunday in a suicide attack at a funeral in eastern afghanistan officials said the attacker himself up as people gathered for the funeral of a former district governor at a in afghanistan's city there was no immediate claim of responsibility for the attack \n",
      "실제 요약 : 15 killed in suicide attack at funeral in afghanistan \n",
      "예측 요약 :  suicide in suicide at afghan soldiers\n",
      "\n",
      "\n",
      "원문 : banned cricketer sreesanth has said that if his ban is lifted and he gets to play for six months he will give a lot of youngsters a run for their money i totally deserve a chance to play club cricket so that i at least get to prove my fitness levels and play for the kerala cricket team he added \n",
      "실제 요약 : if my ban is i'll give run for money \n",
      "예측 요약 :  banned for to play for 6 months\n",
      "\n",
      "\n",
      "원문 : alibaba founder jack ma unveiled the trailer of his upcoming action film in china this week the film is based on the chinese martial art form with jack ma playing the role of a master ma known to practice the art form can be seen performing moves in the seven minute long trailer \n",
      "실제 요약 : trailer of alibaba founder jack movie released \n",
      "예측 요약 :  jack unveils great great for china\n",
      "\n",
      "\n",
      "원문 : a 22 year old woman allegedly drowned her newly born child in a of water minutes after the delivery at a private hospital in hyderabad the police said on tuesday the cops said they suspected that the woman did not want to have the baby as she was a murder case has been registered against her the cops said \n",
      "실제 요약 : woman in of water minutes after birth \n",
      "예측 요약 :  woman baby from well in hyderabad\n",
      "\n",
      "\n",
      "원문 : twelve boys and their football coach were rescued from a flooded cave in thailand on tuesday after spending 18 days trapped underground placed guide along the nearly 4 km long while worked round the clock to reduce the water level in the cave each boy was accompanied by two along the way with one holding their air tank \n",
      "실제 요약 : how were the boys in rescued \n",
      "예측 요약 :  12 boys rescued from thai rescued in\n",
      "\n",
      "\n",
      "원문 : writer of kangana ranaut starrer took to twitter to share the script that he penned for the film interesting exercise to see how some while some get lost in wrote while sharing the script earlier kangana was credited for additional story and before the main writer on the film's poster \n",
      "실제 요약 : shares he for the film \n",
      "예측 요약 :  kangana shares his story of\n",
      "\n",
      "\n",
      "원문 : the gujarat high court has restored a order against the wire it from reporting on the businesses of bjp president amit shah's son jay shah earlier a lower court had partially lifted the order in the defamation case filed by jay shah the wire reported that jay shah's business turnover increased 16 000 times after pm modi's election \n",
      "실제 요약 : gujarat hc order on the in shah case \n",
      "예측 요약 :  hc orders of shah on\n",
      "\n",
      "\n",
      "원문 : the entertainment department of the thane district has sent a show cause notice to the organisers of singer justin mumbai concert and demanded ã¢ââ¹2 8 crore for not providing complete information on and partners the local body added the fine was also applicable as more people than permitted attended the concert with over 7 000 people entering without buying tickets \n",
      "실제 요약 : local body wants ã¢ââ¹2 8 cr fine from concert \n",
      "예측 요약 :  notice for ã¢ââ¹2 crore for\n",
      "\n",
      "\n",
      "원문 : seemingly referring to the incident wherein congress president rahul gandhi prime minister narendra modi in lok sabha pm modi said there are people who think that they can change the course of their politics with a hug pm modi who was addressing a rally in rajasthan added after 60 years the country is in the right direction \n",
      "실제 요약 : some think they can change of politics with a pm \n",
      "예측 요약 :  people to change politics in politics pm modi\n",
      "\n",
      "\n",
      "원문 : mira rajput while supporting tanushree dutta who accused nana patekar of sexual harassment shared instagram post as her instagram story which said where were all the women when this was happening i believe tanushree i feel there is something we are missing here a point that we fail to and own up to the post further said \n",
      "실제 요약 : shares actress post to support \n",
      "예측 요약 :  women on harassment row\n",
      "\n",
      "\n",
      "원문 : philippine president rodrigo duterte has threatened to shoot and himself that's true if nobody would it i will pull the trigger he said duterte also warned he may bring back the police force to fight his war against drugs which has killed nearly 4 000 people if things get worse again \n",
      "실제 요약 : philippine prez says he will shoot himself \n",
      "예측 요약 :  philippine prez threatens to kill himself\n",
      "\n",
      "\n",
      "원문 : in a dig at the alleged cover of fair the cover of magazine's comedy issue features extra hands and legs of actresses kate and issued a mock apology over the cover while stating our intention was to celebrate the three super funny we deeply regret that the results violated laws of nature \n",
      "실제 요약 : magazine cover features hands \n",
      "예측 요약 :  magazine features on cover\n",
      "\n",
      "\n",
      "원문 : fifa president has and congratulated fc for their historic i league title win on behalf of the entire football community i would like to thank fc and your association for helping to spread the positive message of football the 47 year old wrote in the letter also expressed his interest in meeting the president \n",
      "실제 요약 : fifa president for 1st i league win \n",
      "예측 요약 :  fifa u 17 football team to\n",
      "\n",
      "\n",
      "원문 : pm narendra modi on thursday said that government has suggested to the finance commission to states that have worked on population control tamil nadu which has a lot of effort towards population control would certainly be he added this comes after southern states said they incurred losses as states with higher population were allotted more central funds \n",
      "실제 요약 : to states for control pm \n",
      "예측 요약 :  govt to govt to ensure pm modi\n",
      "\n",
      "\n",
      "원문 : a texas based has been charged for his role in a million healthcare fraud and international money laundering scheme the doctor allegedly and to patients based on false the co purchased private jets luxury cars including a branded clothing such as louis and real in the us and mexico \n",
      "실제 요약 : doctor gives fake cancer buys jet \n",
      "예측 요약 :  man charged for fraud with money\n",
      "\n",
      "\n",
      "원문 : the national pharmaceutical pricing authority has reduced the prices of drug to ã¢ââ¹27 from 600 5 gst for larger public interest it also directed hospitals to mention prices of and separately in the bills price regulation is necessary to counter the and trade margin the authority said \n",
      "실제 요약 : govt prices by ã¢ââ¹1 700 price at \n",
      "예측 요약 :  gst to cut ã¢ââ¹2 600 crore\n",
      "\n",
      "\n",
      "원문 : lalu prasad yadav has been elected as national president of rashtriya janata dal rjd for the tenth consecutive time he was the only person to file a nomination for the post of the party president following election bihar cm nitish kumar took a dig at rjd calling it a private political party and a family political asset \n",
      "실제 요약 : lalu elected chief for time in a row \n",
      "예측 요약 :  lalu elected as chief for\n",
      "\n",
      "\n",
      "원문 : rao while talking about getting replaced in a film without any revealed i was the of the film and then suddenly some sugar picked up the phone and his relative replaced me in that movie i at least wished that the director had the to it to me added the actress \n",
      "실제 요약 : of some once me in a film \n",
      "예측 요약 :  was a phone when i was\n",
      "\n",
      "\n",
      "원문 : white goods maker amber enterprises has raised 28 million crore from abu dhabi investment authority goldman sachs and other anchor investors ahead of its initial public offering ipo amber is seeking a valuation of million ã¢ââ¹2 crore from the ipo the company makes products including air for videocon and others \n",
      "실제 요약 : raises 28 mn from \n",
      "예측 요약 :  maker raises crore\n",
      "\n",
      "\n",
      "원문 : there is a 30 foot high dog shaped in united states the which was built in 1997 and funded through sales of also serves as a landmark in the area named the dog park it is pet friendly and features dog themed furniture but has no television or phone \n",
      "실제 요약 : there is a dog in us \n",
      "예측 요약 :  dog into dog to us\n",
      "\n",
      "\n",
      "원문 : amidst reports that congress vice president rahul gandhi would soon be elevated as party president uttar pradesh cm yogi adityanath on tuesday said that it would make bjp's task of making a free india' easier this comes a day after the congress working committee approved a schedule for the election of its new party president \n",
      "실제 요약 : rahul's as cong prez to make bjp job up cm \n"
     ]
    },
    {
     "name": "stdout",
     "output_type": "stream",
     "text": [
      "예측 요약 :  rahul will make yogi like make 2020 yogi\n",
      "\n",
      "\n",
      "원문 : chinese defence spokesman on thursday said that india should control its border defence troops and work towards developing a positive military to military relationship with china he also hailed the resolution of the 73 day doklam standoff between the two nations as china's major achievement in international military cooperation this year \n",
      "실제 요약 : india should control its border troops china \n",
      "예측 요약 :  china troops to build military in china\n",
      "\n",
      "\n",
      "원문 : amid attacks on ravi by some infosys independent director kiran shaw on monday supported him saying he was a valuable board member she further said it's sad that people comment so without any facts notably former infosys director pai had on twitter said that was in power play and needed to be \n",
      "실제 요약 : backs infosys director \n",
      "예측 요약 :  didn't know what is the board\n",
      "\n",
      "\n",
      "원문 : reliance jio has written to trai slamming cellular operators association of indiaã¢ââs views on usage charges jio said views are completely against the of consumers anti competitive and the adoption of the dispute to jio seeking to these charges while rivals want them to be more than doubled from 14 paise minute now \n",
      "실제 요약 : against of jio \n",
      "예측 요약 :  jio jio to not\n",
      "\n",
      "\n",
      "원문 : made from animal discovered in a 17th century in england is known to be the oldest dating back to condoms made of fish and are also known to have been earlier used by the british to reduce of diseases it is believed were used as female condoms by ancient \n",
      "실제 요약 : oldest found was made from \n",
      "예측 요약 :  scientists find oldest ever\n",
      "\n",
      "\n",
      "원문 : china has agreed to acquire its hong kong rival overseas international for about 6 3 billion over ã¢ââ¹40 000 crore the takeover will result in china becoming the third largest line in the world upon the completion of the deal will control 90 1 of while shanghai international port group will hold the rest \n",
      "실제 요약 : china to rival for over 000 crore \n",
      "예측 요약 :  china buys hong for 2 000 crore\n",
      "\n",
      "\n",
      "원문 : the maharashtra state council of examination on saturday conducted its last exam of the process of out the use of was initiated in 2013 through a government resolution which emphasised on the need to computer trained professionals for government offices this would reportedly affect over 3 500 private training institutes in the state \n",
      "실제 요약 : maharashtra govt its last \n",
      "예측 요약 :  maha board exam for\n",
      "\n",
      "\n",
      "원문 : indian cricketing legend sachin tendulkar shared a message on twitter after indian captain virat kohli was named the icc cricketer of the year tendulkar's message read no there at all you it many congratulations icc notably kohli is only the fourth indian to win the sir trophy \n",
      "실제 요약 : no there at all sachin on kohli's icc award \n",
      "예측 요약 :  sachin posts photo of kohli\n",
      "\n",
      "\n",
      "원문 : the andhra pradesh assembly has passed a bill that provides 5 reservation in education and employment to the community since total reservation now 50 the bill will be sent to the centre chief minister chandrababu naidu said the ruling telugu party had promised to fulfil the demand in its election manifesto in 2014 \n",
      "실제 요약 : andhra pradesh govt approves 5 for \n",
      "예측 요약 :  andhra pradesh approves of 12 bill\n",
      "\n",
      "\n",
      "원문 : as many as muslims from district of uttar pradesh joined bjp on sunday in the presence of state party president mahendra nath pandey speaking on the occasion pandey said that the entire country had strong faith in the policies of pm narendra modi bjp is giving space to people who want to serve the society he added \n",
      "실제 요약 : muslims from join bjp \n",
      "예측 요약 :  muslims muslims in up to be as president\n",
      "\n",
      "\n",
      "원문 : former india pacer prasad on friday submitted his resignation from the post of chairman of the junior national selection committee prasad who cited personal reasons for stepping down has worked as the head of the committee for 30 months acting president ck khanna said that he tried prasad to stay but he had made up his mind \n",
      "실제 요약 : quits as bcci chairman \n",
      "예측 요약 :  ex cricketer singh quits as chairman\n",
      "\n",
      "\n",
      "원문 : former female google employee has filed a complaint against the company accusing it of paying female teachers lower salaries compared to their male counterparts working for its children's centre google employed nearly women and three men as teachers but two of those men were paid higher than nearly all of the women she said \n",
      "실제 요약 : google accused of paying female teachers less than \n",
      "예측 요약 :  google employee sued for women staff for women\n",
      "\n",
      "\n",
      "원문 : nasa has created the known place in the universe inside cold laboratory at the international space station the researchers successfully produced clouds of which can reach a of a degree above absolute zero temperature launched on may 21 2018 is producing the daily to study under vacuum nasa said \n",
      "실제 요약 : nasa creates place in at space station \n",
      "예측 요약 :  nasa reveals of space\n",
      "\n",
      "\n",
      "원문 : qatar airways ceo akbar al has said us president donald trump is a very individual and a very good businessman his comment came in response to us airlines asking the government to prevent gulf airlines from expanding in the us market in this regard al suggested trump was to be into accepting these demands \n",
      "실제 요약 : trump is a very good says qatar airways ceo \n",
      "예측 요약 :  trump is a very qatar airways ceo\n",
      "\n",
      "\n",
      "원문 : the central zone task force team on saturday arrested a 42 year old woman for the deputy commissioner of police in hyderabad the woman hailing from had installed a police and a red on her car a police uniform identity cards a car and two motorcycles were also seized from her possession \n",
      "실제 요약 : woman police official arrested in hyderabad \n",
      "예측 요약 :  arrested for woman in woman\n",
      "\n",
      "\n",
      "원문 : the european space agency has said their proposed moon village could have its first settlement of 6 10 scientists by 2030 while there may be the possibility to have children born on the moon mere decades from now the base could serve as a launching pad for future missions to mars and for developing space tourism added \n",
      "실제 요약 : children may be born on moon within \n",
      "예측 요약 :  to moon to moon by 5\n",
      "\n",
      "\n",
      "원문 : adam a 28 year old ex player completed the longest hole in golf history covering 2 km taking 20 shots in over 80 days across and started in the far west of in late june and finished in the country's only golf course in capital used a total of 135 balls over the \n",
      "실제 요약 : plays 2 km over 80 days takes 20 \n",
      "예측 요약 :  longest longest in 15 days in 17 days\n",
      "\n",
      "\n",
      "원문 : pakistan's supreme court has been informed that own assets and properties worth 150 billion in the uae the local media reported the state bank of pakistan said that it had issued notices to 125 who own assets in the uae the court was informed that money was transferred out of pakistan mainly through and banking routes \n",
      "실제 요약 : own assets worth 150 billion in uae report \n",
      "예측 요약 :  assets worth ã¢ââ¹3 500 crore in uae sc\n",
      "\n",
      "\n",
      "원문 : the international olympic committee has officially included mixed gender racing and 3 on 3 men's and women's basketball as olympic events for the tokyo games to be held in 2020 the committee has added a total of 15 events including mixed gender in swimming track and mixed team events in and and mixed doubles in table tennis \n",
      "실제 요약 : gender in 2020 olympics \n",
      "예측 요약 :  olympic commission announces all 3 3 3 games olympic\n",
      "\n",
      "\n",
      "원문 : late actress sridevi's childhood friend reddy has said she spoke to sridevi the day she was leaving for dubai and revealed that she had fever and was on she was feeling but she said that she has to go for the family wedding added she further said i have lost a sister we are \n",
      "실제 요약 : sridevi had and was on says her friend \n",
      "예측 요약 :  i was to sridevi on\n",
      "\n",
      "\n",
      "원문 : at least one child was killed while 20 others were injured after their school bus collided with a truck in bihar's district on monday the incident took place when the students were returning from an educational trip to a team of doctors is looking after the injured students sub officer kumar said \n",
      "실제 요약 : 1 child killed 20 injured in bus truck in bihar \n",
      "예측 요약 :  child killed in bihar school kills self\n",
      "\n",
      "\n",
      "원문 : researchers have developed a simple blood test to estimate the risk of developing active the test measures the activity of pairs of genes involved in the response researchers the health status of around 4 500 african people living with a patient the international team hopes to develop the test to avoid treating people at low risk \n",
      "실제 요약 : new blood test to of \n",
      "예측 요약 :  scientists blood test test\n",
      "\n",
      "\n",
      "원문 : talking about rape accused hollywood producer harvey weinstein actress kate said he was just so to deal with he didn't like me because i wouldn't be by him the actress added i was one of the ones he would label because i wouldn't do the things he would ask for me to do on a business level \n",
      "실제 요약 : didn't like me as i be by him \n"
     ]
    },
    {
     "name": "stdout",
     "output_type": "stream",
     "text": [
      "예측 요약 :  i am a lawyer on rape allegations\n",
      "\n",
      "\n",
      "원문 : a physically challenged woman was allegedly gangraped by an auto rickshaw driver and his two in andhra pradesh's district police said the woman was travelling to her house in the three wheeler when the driver accompanied by his diverted the vehicle and took her to an isolated area a rushed to her rescue after hearing her \n",
      "실제 요약 : woman gangraped by auto driver his in andhra \n",
      "예측 요약 :  woman gangraped by auto driver in andhra pradesh\n",
      "\n",
      "\n",
      "원문 : afghanistan's president has said that his job is the worst on earth we're like 12 year taking on the responsibility of a 30 year old but we really grew now in terms of leadership things are really falling into place added he also said that within four years afghan forces would be able to claim a legitimate of power \n",
      "실제 요약 : my job is the worst on earth president \n",
      "예측 요약 :  my longest is my first ever president\n",
      "\n",
      "\n",
      "원문 : amarnath scored india's first ever test century on december 17 while playing in his debut match against england amarnath who scored was also independent india's first cricket captain later in son scored a century on test debut against new zealand making them the only father son duo to score tons on international debut \n",
      "실제 요약 : india's first test century on his debut \n",
      "예측 요약 :  first test ton in his first test\n",
      "\n",
      "\n",
      "원문 : after being out karachi called for a review claiming the ball hit just his helmet before ali caught it during a match interestingly the no ball showed standing at the non end with bowling a legitimate delivery further the confirmed had touched the ball \n",
      "실제 요약 : no ball shows batsman on strike at other end \n",
      "예측 요약 :  ball after getting out\n",
      "\n",
      "\n",
      "원문 : neeraj chopra the first indian to bag gold at asian games taught himself the sport by watching videos of world record holder jan on youtube neeraj hurled the to a distance of 88 to break his previous national record of 87 and bag the gold the 20 year old had also won the commonwealth games gold this year \n",
      "실제 요약 : india's 1st asiad champ the through youtube \n",
      "예측 요약 :  chopra to win silver at asiad gold\n",
      "\n",
      "\n",
      "원문 : secretary general of north atlantic treaty organisation nato on sunday said that north korea's behaviour is a global threat and requires a global response adding that the organisation is totally focused on how it can contribute to a peaceful solution to the conflict said there is no easy way out of this difficult situation \n",
      "실제 요약 : n global \n",
      "예측 요약 :  north korea is not a threat\n",
      "\n",
      "\n",
      "원문 : the central bureau of investigation cbi visited delhi health minister home today to carry out an inquiry in the money laundering case against him the team reportedly sought from his wife in the case jain is alleged to have been involved in laundering around ã¢ââ¹4 63 crore in 2015 16 and ã¢ââ¹11 78 crore in 2010 12 \n",
      "실제 요약 : cbi team visits delhi health home over corruption case \n",
      "예측 요약 :  cbi orders cbi probe into money case\n",
      "\n",
      "\n"
     ]
    }
   ],
   "source": [
    "for i in range(50, 100):\n",
    "    print(\"원문 :\", seq2text(encoder_input_test[i]))\n",
    "    print(\"실제 요약 :\", seq2summary(decoder_input_test[i]))\n",
    "    print(\"예측 요약 :\", decode_sequence(encoder_input_test[i].reshape(1, text_max_len)))\n",
    "    print(\"\\n\")"
   ]
  },
  {
   "cell_type": "markdown",
   "metadata": {},
   "source": [
    "##### Step 5. Summa을 이용해서 추출적 요약해보기\n",
    "\n",
    "추상적 요약은 추출적 요약과는 달리 문장의 표현력을 다양하게 가져갈 수 있지만, 추출적 요약에 비해서 난이도가 높아요. 반대로 말하면 추출적 요약은 추상적 요약에 비해 난이도가 낮고 기존 문장에서 문장을 꺼내오는 것이므로 잘못된 요약이 나올 가능성이 낮아요.\n",
    "\n",
    "Summa의 summarize를 사용하여 추출적 요약을 해보세요."
   ]
  },
  {
   "cell_type": "code",
   "execution_count": 83,
   "metadata": {},
   "outputs": [],
   "source": [
    "import requests\n",
    "from summa.summarizer import summarize"
   ]
  },
  {
   "cell_type": "code",
   "execution_count": 103,
   "metadata": {},
   "outputs": [
    {
     "name": "stdout",
     "output_type": "stream",
     "text": [
      "Users get one CRED coin per rupee of bill paid, which can be used to avail rewards from brands like Ixigo, BookMyShow, UberEats, Cult.Fit and more.\n"
     ]
    }
   ],
   "source": [
    "print(summarize(data['text'][1], words=30))"
   ]
  },
  {
   "cell_type": "code",
   "execution_count": null,
   "metadata": {},
   "outputs": [],
   "source": []
  }
 ],
 "metadata": {
  "kernelspec": {
   "display_name": "aiffel",
   "language": "python",
   "name": "aiffel"
  },
  "language_info": {
   "codemirror_mode": {
    "name": "ipython",
    "version": 3
   },
   "file_extension": ".py",
   "mimetype": "text/x-python",
   "name": "python",
   "nbconvert_exporter": "python",
   "pygments_lexer": "ipython3",
   "version": "3.7.6"
  }
 },
 "nbformat": 4,
 "nbformat_minor": 4
}
